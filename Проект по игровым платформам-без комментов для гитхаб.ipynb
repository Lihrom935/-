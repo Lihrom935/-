{
 "cells": [
  {
   "cell_type": "markdown",
   "metadata": {},
   "source": [
    "# Проект: Исследование продаж по игровым платформам."
   ]
  },
  {
   "cell_type": "markdown",
   "metadata": {},
   "source": [
    "## Описание проекта"
   ]
  },
  {
   "cell_type": "markdown",
   "metadata": {},
   "source": [
    "*Из открытых источников доступны исторические данные о продажах игр, оценки пользователей и экспертов, жанры и платформы (например, Xbox или PlayStation). Вам нужно выявить определяющие успешность игры закономерности. Это позволит сделать ставку на потенциально популярный продукт и спланировать рекламные кампании.*\n",
    "\n",
    "*Перед вами данные до 2016 года. Представим, что сейчас декабрь 2016 г., и вы планируете кампанию на 2017-й.*"
   ]
  },
  {
   "cell_type": "markdown",
   "metadata": {},
   "source": [
    "# Шаг 1. Изучение общей информации"
   ]
  },
  {
   "cell_type": "code",
   "execution_count": 1,
   "metadata": {},
   "outputs": [],
   "source": [
    "#загружаем библиотеки\n",
    "import pandas as pd\n",
    "\n",
    "import numpy as np\n",
    "\n",
    "import matplotlib.pyplot as plt\n",
    "\n",
    "from scipy import stats as st\n",
    "\n",
    "\n",
    "\n",
    "import warnings # отключаем \"бесполезные\" предупреждения \n",
    "warnings.filterwarnings('ignore')\n"
   ]
  },
  {
   "cell_type": "code",
   "execution_count": 2,
   "metadata": {
    "scrolled": false
   },
   "outputs": [
    {
     "name": "stdout",
     "output_type": "stream",
     "text": [
      "<class 'pandas.core.frame.DataFrame'>\n",
      "RangeIndex: 16715 entries, 0 to 16714\n",
      "Data columns (total 11 columns):\n",
      "Name               16713 non-null object\n",
      "Platform           16715 non-null object\n",
      "Year_of_Release    16446 non-null float64\n",
      "Genre              16713 non-null object\n",
      "NA_sales           16715 non-null float64\n",
      "EU_sales           16715 non-null float64\n",
      "JP_sales           16715 non-null float64\n",
      "Other_sales        16715 non-null float64\n",
      "Critic_Score       8137 non-null float64\n",
      "User_Score         10014 non-null object\n",
      "Rating             9949 non-null object\n",
      "dtypes: float64(6), object(5)\n",
      "memory usage: 1.4+ MB\n"
     ]
    },
    {
     "data": {
      "text/html": [
       "<div>\n",
       "<style scoped>\n",
       "    .dataframe tbody tr th:only-of-type {\n",
       "        vertical-align: middle;\n",
       "    }\n",
       "\n",
       "    .dataframe tbody tr th {\n",
       "        vertical-align: top;\n",
       "    }\n",
       "\n",
       "    .dataframe thead th {\n",
       "        text-align: right;\n",
       "    }\n",
       "</style>\n",
       "<table border=\"1\" class=\"dataframe\">\n",
       "  <thead>\n",
       "    <tr style=\"text-align: right;\">\n",
       "      <th></th>\n",
       "      <th>Year_of_Release</th>\n",
       "      <th>NA_sales</th>\n",
       "      <th>EU_sales</th>\n",
       "      <th>JP_sales</th>\n",
       "      <th>Other_sales</th>\n",
       "      <th>Critic_Score</th>\n",
       "    </tr>\n",
       "  </thead>\n",
       "  <tbody>\n",
       "    <tr>\n",
       "      <td>count</td>\n",
       "      <td>16446.000000</td>\n",
       "      <td>16715.000000</td>\n",
       "      <td>16715.000000</td>\n",
       "      <td>16715.000000</td>\n",
       "      <td>16715.000000</td>\n",
       "      <td>8137.000000</td>\n",
       "    </tr>\n",
       "    <tr>\n",
       "      <td>mean</td>\n",
       "      <td>2006.484616</td>\n",
       "      <td>0.263377</td>\n",
       "      <td>0.145060</td>\n",
       "      <td>0.077617</td>\n",
       "      <td>0.047342</td>\n",
       "      <td>68.967679</td>\n",
       "    </tr>\n",
       "    <tr>\n",
       "      <td>std</td>\n",
       "      <td>5.877050</td>\n",
       "      <td>0.813604</td>\n",
       "      <td>0.503339</td>\n",
       "      <td>0.308853</td>\n",
       "      <td>0.186731</td>\n",
       "      <td>13.938165</td>\n",
       "    </tr>\n",
       "    <tr>\n",
       "      <td>min</td>\n",
       "      <td>1980.000000</td>\n",
       "      <td>0.000000</td>\n",
       "      <td>0.000000</td>\n",
       "      <td>0.000000</td>\n",
       "      <td>0.000000</td>\n",
       "      <td>13.000000</td>\n",
       "    </tr>\n",
       "    <tr>\n",
       "      <td>25%</td>\n",
       "      <td>2003.000000</td>\n",
       "      <td>0.000000</td>\n",
       "      <td>0.000000</td>\n",
       "      <td>0.000000</td>\n",
       "      <td>0.000000</td>\n",
       "      <td>60.000000</td>\n",
       "    </tr>\n",
       "    <tr>\n",
       "      <td>50%</td>\n",
       "      <td>2007.000000</td>\n",
       "      <td>0.080000</td>\n",
       "      <td>0.020000</td>\n",
       "      <td>0.000000</td>\n",
       "      <td>0.010000</td>\n",
       "      <td>71.000000</td>\n",
       "    </tr>\n",
       "    <tr>\n",
       "      <td>75%</td>\n",
       "      <td>2010.000000</td>\n",
       "      <td>0.240000</td>\n",
       "      <td>0.110000</td>\n",
       "      <td>0.040000</td>\n",
       "      <td>0.030000</td>\n",
       "      <td>79.000000</td>\n",
       "    </tr>\n",
       "    <tr>\n",
       "      <td>max</td>\n",
       "      <td>2016.000000</td>\n",
       "      <td>41.360000</td>\n",
       "      <td>28.960000</td>\n",
       "      <td>10.220000</td>\n",
       "      <td>10.570000</td>\n",
       "      <td>98.000000</td>\n",
       "    </tr>\n",
       "  </tbody>\n",
       "</table>\n",
       "</div>"
      ],
      "text/plain": [
       "       Year_of_Release      NA_sales      EU_sales      JP_sales  \\\n",
       "count     16446.000000  16715.000000  16715.000000  16715.000000   \n",
       "mean       2006.484616      0.263377      0.145060      0.077617   \n",
       "std           5.877050      0.813604      0.503339      0.308853   \n",
       "min        1980.000000      0.000000      0.000000      0.000000   \n",
       "25%        2003.000000      0.000000      0.000000      0.000000   \n",
       "50%        2007.000000      0.080000      0.020000      0.000000   \n",
       "75%        2010.000000      0.240000      0.110000      0.040000   \n",
       "max        2016.000000     41.360000     28.960000     10.220000   \n",
       "\n",
       "        Other_sales  Critic_Score  \n",
       "count  16715.000000   8137.000000  \n",
       "mean       0.047342     68.967679  \n",
       "std        0.186731     13.938165  \n",
       "min        0.000000     13.000000  \n",
       "25%        0.000000     60.000000  \n",
       "50%        0.010000     71.000000  \n",
       "75%        0.030000     79.000000  \n",
       "max       10.570000     98.000000  "
      ]
     },
     "metadata": {},
     "output_type": "display_data"
    },
    {
     "data": {
      "text/html": [
       "<div>\n",
       "<style scoped>\n",
       "    .dataframe tbody tr th:only-of-type {\n",
       "        vertical-align: middle;\n",
       "    }\n",
       "\n",
       "    .dataframe tbody tr th {\n",
       "        vertical-align: top;\n",
       "    }\n",
       "\n",
       "    .dataframe thead th {\n",
       "        text-align: right;\n",
       "    }\n",
       "</style>\n",
       "<table border=\"1\" class=\"dataframe\">\n",
       "  <thead>\n",
       "    <tr style=\"text-align: right;\">\n",
       "      <th></th>\n",
       "      <th>Name</th>\n",
       "      <th>Platform</th>\n",
       "      <th>Year_of_Release</th>\n",
       "      <th>Genre</th>\n",
       "      <th>NA_sales</th>\n",
       "      <th>EU_sales</th>\n",
       "      <th>JP_sales</th>\n",
       "      <th>Other_sales</th>\n",
       "      <th>Critic_Score</th>\n",
       "      <th>User_Score</th>\n",
       "      <th>Rating</th>\n",
       "    </tr>\n",
       "  </thead>\n",
       "  <tbody>\n",
       "    <tr>\n",
       "      <td>0</td>\n",
       "      <td>Wii Sports</td>\n",
       "      <td>Wii</td>\n",
       "      <td>2006.0</td>\n",
       "      <td>Sports</td>\n",
       "      <td>41.36</td>\n",
       "      <td>28.96</td>\n",
       "      <td>3.77</td>\n",
       "      <td>8.45</td>\n",
       "      <td>76.0</td>\n",
       "      <td>8</td>\n",
       "      <td>E</td>\n",
       "    </tr>\n",
       "    <tr>\n",
       "      <td>1</td>\n",
       "      <td>Super Mario Bros.</td>\n",
       "      <td>NES</td>\n",
       "      <td>1985.0</td>\n",
       "      <td>Platform</td>\n",
       "      <td>29.08</td>\n",
       "      <td>3.58</td>\n",
       "      <td>6.81</td>\n",
       "      <td>0.77</td>\n",
       "      <td>NaN</td>\n",
       "      <td>NaN</td>\n",
       "      <td>NaN</td>\n",
       "    </tr>\n",
       "    <tr>\n",
       "      <td>2</td>\n",
       "      <td>Mario Kart Wii</td>\n",
       "      <td>Wii</td>\n",
       "      <td>2008.0</td>\n",
       "      <td>Racing</td>\n",
       "      <td>15.68</td>\n",
       "      <td>12.76</td>\n",
       "      <td>3.79</td>\n",
       "      <td>3.29</td>\n",
       "      <td>82.0</td>\n",
       "      <td>8.3</td>\n",
       "      <td>E</td>\n",
       "    </tr>\n",
       "    <tr>\n",
       "      <td>3</td>\n",
       "      <td>Wii Sports Resort</td>\n",
       "      <td>Wii</td>\n",
       "      <td>2009.0</td>\n",
       "      <td>Sports</td>\n",
       "      <td>15.61</td>\n",
       "      <td>10.93</td>\n",
       "      <td>3.28</td>\n",
       "      <td>2.95</td>\n",
       "      <td>80.0</td>\n",
       "      <td>8</td>\n",
       "      <td>E</td>\n",
       "    </tr>\n",
       "    <tr>\n",
       "      <td>4</td>\n",
       "      <td>Pokemon Red/Pokemon Blue</td>\n",
       "      <td>GB</td>\n",
       "      <td>1996.0</td>\n",
       "      <td>Role-Playing</td>\n",
       "      <td>11.27</td>\n",
       "      <td>8.89</td>\n",
       "      <td>10.22</td>\n",
       "      <td>1.00</td>\n",
       "      <td>NaN</td>\n",
       "      <td>NaN</td>\n",
       "      <td>NaN</td>\n",
       "    </tr>\n",
       "  </tbody>\n",
       "</table>\n",
       "</div>"
      ],
      "text/plain": [
       "                       Name Platform  Year_of_Release         Genre  NA_sales  \\\n",
       "0                Wii Sports      Wii           2006.0        Sports     41.36   \n",
       "1         Super Mario Bros.      NES           1985.0      Platform     29.08   \n",
       "2            Mario Kart Wii      Wii           2008.0        Racing     15.68   \n",
       "3         Wii Sports Resort      Wii           2009.0        Sports     15.61   \n",
       "4  Pokemon Red/Pokemon Blue       GB           1996.0  Role-Playing     11.27   \n",
       "\n",
       "   EU_sales  JP_sales  Other_sales  Critic_Score User_Score Rating  \n",
       "0     28.96      3.77         8.45          76.0          8      E  \n",
       "1      3.58      6.81         0.77           NaN        NaN    NaN  \n",
       "2     12.76      3.79         3.29          82.0        8.3      E  \n",
       "3     10.93      3.28         2.95          80.0          8      E  \n",
       "4      8.89     10.22         1.00           NaN        NaN    NaN  "
      ]
     },
     "metadata": {},
     "output_type": "display_data"
    }
   ],
   "source": [
    "df = pd.read_csv('/datasets/games.csv')\n",
    "\n",
    "df.info()#изучаем общую информацию\n",
    "\n",
    "display(df.describe())\n",
    "\n",
    "display(df.head())"
   ]
  },
  {
   "cell_type": "markdown",
   "metadata": {},
   "source": [
    "**Видим, что названия столбцов \"неправильные\", кое-где есть пропуски, год релиза - число не целое, есть непонятная оценка \"tbd\" в оценках пользователей и тип оценки -\"object\".**"
   ]
  },
  {
   "cell_type": "markdown",
   "metadata": {},
   "source": [
    "# Шаг 2.  Подготовка данных"
   ]
  },
  {
   "cell_type": "code",
   "execution_count": 3,
   "metadata": {},
   "outputs": [
    {
     "name": "stdout",
     "output_type": "stream",
     "text": [
      "<class 'pandas.core.frame.DataFrame'>\n",
      "Int64Index: 16444 entries, 0 to 16714\n",
      "Data columns (total 12 columns):\n",
      "name               16444 non-null object\n",
      "platform           16444 non-null object\n",
      "year_of_release    16444 non-null int64\n",
      "genre              16444 non-null object\n",
      "na_sales           16444 non-null float64\n",
      "eu_sales           16444 non-null float64\n",
      "jp_sales           16444 non-null float64\n",
      "other_sales        16444 non-null float64\n",
      "critic_score       7983 non-null float64\n",
      "user_score         7463 non-null float64\n",
      "rating             9768 non-null object\n",
      "global_sales       16444 non-null float64\n",
      "dtypes: float64(7), int64(1), object(4)\n",
      "memory usage: 1.6+ MB\n"
     ]
    },
    {
     "data": {
      "text/html": [
       "<div>\n",
       "<style scoped>\n",
       "    .dataframe tbody tr th:only-of-type {\n",
       "        vertical-align: middle;\n",
       "    }\n",
       "\n",
       "    .dataframe tbody tr th {\n",
       "        vertical-align: top;\n",
       "    }\n",
       "\n",
       "    .dataframe thead th {\n",
       "        text-align: right;\n",
       "    }\n",
       "</style>\n",
       "<table border=\"1\" class=\"dataframe\">\n",
       "  <thead>\n",
       "    <tr style=\"text-align: right;\">\n",
       "      <th></th>\n",
       "      <th>name</th>\n",
       "      <th>platform</th>\n",
       "      <th>year_of_release</th>\n",
       "      <th>genre</th>\n",
       "      <th>na_sales</th>\n",
       "      <th>eu_sales</th>\n",
       "      <th>jp_sales</th>\n",
       "      <th>other_sales</th>\n",
       "      <th>critic_score</th>\n",
       "      <th>user_score</th>\n",
       "      <th>rating</th>\n",
       "      <th>global_sales</th>\n",
       "    </tr>\n",
       "  </thead>\n",
       "  <tbody>\n",
       "    <tr>\n",
       "      <td>0</td>\n",
       "      <td>Wii Sports</td>\n",
       "      <td>Wii</td>\n",
       "      <td>2006</td>\n",
       "      <td>Sports</td>\n",
       "      <td>41.36</td>\n",
       "      <td>28.96</td>\n",
       "      <td>3.77</td>\n",
       "      <td>8.45</td>\n",
       "      <td>76.0</td>\n",
       "      <td>8.0</td>\n",
       "      <td>E</td>\n",
       "      <td>82.54</td>\n",
       "    </tr>\n",
       "    <tr>\n",
       "      <td>1</td>\n",
       "      <td>Super Mario Bros.</td>\n",
       "      <td>NES</td>\n",
       "      <td>1985</td>\n",
       "      <td>Platform</td>\n",
       "      <td>29.08</td>\n",
       "      <td>3.58</td>\n",
       "      <td>6.81</td>\n",
       "      <td>0.77</td>\n",
       "      <td>NaN</td>\n",
       "      <td>NaN</td>\n",
       "      <td>NaN</td>\n",
       "      <td>40.24</td>\n",
       "    </tr>\n",
       "    <tr>\n",
       "      <td>2</td>\n",
       "      <td>Mario Kart Wii</td>\n",
       "      <td>Wii</td>\n",
       "      <td>2008</td>\n",
       "      <td>Racing</td>\n",
       "      <td>15.68</td>\n",
       "      <td>12.76</td>\n",
       "      <td>3.79</td>\n",
       "      <td>3.29</td>\n",
       "      <td>82.0</td>\n",
       "      <td>8.3</td>\n",
       "      <td>E</td>\n",
       "      <td>35.52</td>\n",
       "    </tr>\n",
       "    <tr>\n",
       "      <td>3</td>\n",
       "      <td>Wii Sports Resort</td>\n",
       "      <td>Wii</td>\n",
       "      <td>2009</td>\n",
       "      <td>Sports</td>\n",
       "      <td>15.61</td>\n",
       "      <td>10.93</td>\n",
       "      <td>3.28</td>\n",
       "      <td>2.95</td>\n",
       "      <td>80.0</td>\n",
       "      <td>8.0</td>\n",
       "      <td>E</td>\n",
       "      <td>32.77</td>\n",
       "    </tr>\n",
       "    <tr>\n",
       "      <td>4</td>\n",
       "      <td>Pokemon Red/Pokemon Blue</td>\n",
       "      <td>GB</td>\n",
       "      <td>1996</td>\n",
       "      <td>Role-Playing</td>\n",
       "      <td>11.27</td>\n",
       "      <td>8.89</td>\n",
       "      <td>10.22</td>\n",
       "      <td>1.00</td>\n",
       "      <td>NaN</td>\n",
       "      <td>NaN</td>\n",
       "      <td>NaN</td>\n",
       "      <td>31.38</td>\n",
       "    </tr>\n",
       "  </tbody>\n",
       "</table>\n",
       "</div>"
      ],
      "text/plain": [
       "                       name platform  year_of_release         genre  na_sales  \\\n",
       "0                Wii Sports      Wii             2006        Sports     41.36   \n",
       "1         Super Mario Bros.      NES             1985      Platform     29.08   \n",
       "2            Mario Kart Wii      Wii             2008        Racing     15.68   \n",
       "3         Wii Sports Resort      Wii             2009        Sports     15.61   \n",
       "4  Pokemon Red/Pokemon Blue       GB             1996  Role-Playing     11.27   \n",
       "\n",
       "   eu_sales  jp_sales  other_sales  critic_score  user_score rating  \\\n",
       "0     28.96      3.77         8.45          76.0         8.0      E   \n",
       "1      3.58      6.81         0.77           NaN         NaN    NaN   \n",
       "2     12.76      3.79         3.29          82.0         8.3      E   \n",
       "3     10.93      3.28         2.95          80.0         8.0      E   \n",
       "4      8.89     10.22         1.00           NaN         NaN    NaN   \n",
       "\n",
       "   global_sales  \n",
       "0         82.54  \n",
       "1         40.24  \n",
       "2         35.52  \n",
       "3         32.77  \n",
       "4         31.38  "
      ]
     },
     "metadata": {},
     "output_type": "display_data"
    }
   ],
   "source": [
    "df.columns = df.columns.str.lower() #приводим названия столбцов к нижнему регистру\n",
    "\n",
    "df.dropna(subset = ['name'], inplace=True) #т.к. количество объектов, где не указано название игры слишком мало, просто удаляем эти строки \n",
    "df.dropna(subset = ['year_of_release'], inplace=True) #т.к. количество объектов, где не указан год релиза слишком мало, просто удаляем эти строки \n",
    "\n",
    "df['year_of_release'] = df['year_of_release'].astype(int)#меняем вещественные значения столбца год релиза на целые, т.к. это логично(\"номер года\" - ЦЕЛОЕ число)\n",
    "\n",
    "#print(df['user_score'].unique())\n",
    "df.loc[df['user_score'] == 'tbd', 'user_score'] = float('nan') #меняем \"To Be Determined\" значение в оценке на 'nan'\n",
    "df['user_score'] = df['user_score'].astype(float) # переводим значения в 'float', т.к. оценка это все-таки число\n",
    "\n",
    "df['global_sales'] = df['na_sales'] + df['eu_sales'] + df['jp_sales'] + df['other_sales']#добавляем в таблицу суммарные продажи \n",
    "\n",
    "df.info()\n",
    "display(df.head())\n"
   ]
  },
  {
   "cell_type": "markdown",
   "metadata": {},
   "source": [
    "**Привели данные к виду, с которым уже можно работать.**"
   ]
  },
  {
   "cell_type": "markdown",
   "metadata": {},
   "source": [
    "# Шаг 3. Исследовательский анализ данных"
   ]
  },
  {
   "cell_type": "markdown",
   "metadata": {},
   "source": [
    "# Шаг 3.1"
   ]
  },
  {
   "cell_type": "code",
   "execution_count": 4,
   "metadata": {},
   "outputs": [
    {
     "data": {
      "text/html": [
       "<div>\n",
       "<style scoped>\n",
       "    .dataframe tbody tr th:only-of-type {\n",
       "        vertical-align: middle;\n",
       "    }\n",
       "\n",
       "    .dataframe tbody tr th {\n",
       "        vertical-align: top;\n",
       "    }\n",
       "\n",
       "    .dataframe thead th {\n",
       "        text-align: right;\n",
       "    }\n",
       "</style>\n",
       "<table border=\"1\" class=\"dataframe\">\n",
       "  <thead>\n",
       "    <tr style=\"text-align: right;\">\n",
       "      <th></th>\n",
       "      <th>count</th>\n",
       "    </tr>\n",
       "    <tr>\n",
       "      <th>year_of_release</th>\n",
       "      <th></th>\n",
       "    </tr>\n",
       "  </thead>\n",
       "  <tbody>\n",
       "    <tr>\n",
       "      <td>2016</td>\n",
       "      <td>502</td>\n",
       "    </tr>\n",
       "    <tr>\n",
       "      <td>2015</td>\n",
       "      <td>606</td>\n",
       "    </tr>\n",
       "    <tr>\n",
       "      <td>2014</td>\n",
       "      <td>581</td>\n",
       "    </tr>\n",
       "    <tr>\n",
       "      <td>2013</td>\n",
       "      <td>544</td>\n",
       "    </tr>\n",
       "    <tr>\n",
       "      <td>2012</td>\n",
       "      <td>653</td>\n",
       "    </tr>\n",
       "    <tr>\n",
       "      <td>2011</td>\n",
       "      <td>1136</td>\n",
       "    </tr>\n",
       "    <tr>\n",
       "      <td>2010</td>\n",
       "      <td>1255</td>\n",
       "    </tr>\n",
       "    <tr>\n",
       "      <td>2009</td>\n",
       "      <td>1426</td>\n",
       "    </tr>\n",
       "    <tr>\n",
       "      <td>2008</td>\n",
       "      <td>1427</td>\n",
       "    </tr>\n",
       "    <tr>\n",
       "      <td>2007</td>\n",
       "      <td>1197</td>\n",
       "    </tr>\n",
       "    <tr>\n",
       "      <td>2006</td>\n",
       "      <td>1006</td>\n",
       "    </tr>\n",
       "    <tr>\n",
       "      <td>2005</td>\n",
       "      <td>939</td>\n",
       "    </tr>\n",
       "    <tr>\n",
       "      <td>2004</td>\n",
       "      <td>762</td>\n",
       "    </tr>\n",
       "    <tr>\n",
       "      <td>2003</td>\n",
       "      <td>775</td>\n",
       "    </tr>\n",
       "    <tr>\n",
       "      <td>2002</td>\n",
       "      <td>829</td>\n",
       "    </tr>\n",
       "    <tr>\n",
       "      <td>2001</td>\n",
       "      <td>482</td>\n",
       "    </tr>\n",
       "    <tr>\n",
       "      <td>2000</td>\n",
       "      <td>350</td>\n",
       "    </tr>\n",
       "    <tr>\n",
       "      <td>1999</td>\n",
       "      <td>338</td>\n",
       "    </tr>\n",
       "    <tr>\n",
       "      <td>1998</td>\n",
       "      <td>379</td>\n",
       "    </tr>\n",
       "    <tr>\n",
       "      <td>1997</td>\n",
       "      <td>289</td>\n",
       "    </tr>\n",
       "    <tr>\n",
       "      <td>1996</td>\n",
       "      <td>263</td>\n",
       "    </tr>\n",
       "    <tr>\n",
       "      <td>1995</td>\n",
       "      <td>219</td>\n",
       "    </tr>\n",
       "    <tr>\n",
       "      <td>1994</td>\n",
       "      <td>121</td>\n",
       "    </tr>\n",
       "    <tr>\n",
       "      <td>1993</td>\n",
       "      <td>60</td>\n",
       "    </tr>\n",
       "    <tr>\n",
       "      <td>1992</td>\n",
       "      <td>43</td>\n",
       "    </tr>\n",
       "    <tr>\n",
       "      <td>1991</td>\n",
       "      <td>41</td>\n",
       "    </tr>\n",
       "    <tr>\n",
       "      <td>1990</td>\n",
       "      <td>16</td>\n",
       "    </tr>\n",
       "    <tr>\n",
       "      <td>1989</td>\n",
       "      <td>17</td>\n",
       "    </tr>\n",
       "    <tr>\n",
       "      <td>1988</td>\n",
       "      <td>15</td>\n",
       "    </tr>\n",
       "    <tr>\n",
       "      <td>1987</td>\n",
       "      <td>16</td>\n",
       "    </tr>\n",
       "    <tr>\n",
       "      <td>1986</td>\n",
       "      <td>21</td>\n",
       "    </tr>\n",
       "    <tr>\n",
       "      <td>1985</td>\n",
       "      <td>14</td>\n",
       "    </tr>\n",
       "    <tr>\n",
       "      <td>1984</td>\n",
       "      <td>14</td>\n",
       "    </tr>\n",
       "    <tr>\n",
       "      <td>1983</td>\n",
       "      <td>17</td>\n",
       "    </tr>\n",
       "    <tr>\n",
       "      <td>1982</td>\n",
       "      <td>36</td>\n",
       "    </tr>\n",
       "    <tr>\n",
       "      <td>1981</td>\n",
       "      <td>46</td>\n",
       "    </tr>\n",
       "    <tr>\n",
       "      <td>1980</td>\n",
       "      <td>9</td>\n",
       "    </tr>\n",
       "  </tbody>\n",
       "</table>\n",
       "</div>"
      ],
      "text/plain": [
       "                 count\n",
       "year_of_release       \n",
       "2016               502\n",
       "2015               606\n",
       "2014               581\n",
       "2013               544\n",
       "2012               653\n",
       "2011              1136\n",
       "2010              1255\n",
       "2009              1426\n",
       "2008              1427\n",
       "2007              1197\n",
       "2006              1006\n",
       "2005               939\n",
       "2004               762\n",
       "2003               775\n",
       "2002               829\n",
       "2001               482\n",
       "2000               350\n",
       "1999               338\n",
       "1998               379\n",
       "1997               289\n",
       "1996               263\n",
       "1995               219\n",
       "1994               121\n",
       "1993                60\n",
       "1992                43\n",
       "1991                41\n",
       "1990                16\n",
       "1989                17\n",
       "1988                15\n",
       "1987                16\n",
       "1986                21\n",
       "1985                14\n",
       "1984                14\n",
       "1983                17\n",
       "1982                36\n",
       "1981                46\n",
       "1980                 9"
      ]
     },
     "metadata": {},
     "output_type": "display_data"
    },
    {
     "data": {
      "image/png": "[encoded data removed]",
      "text/plain": [
       "<Figure size 720x360 with 1 Axes>"
      ]
     },
     "metadata": {
      "needs_background": "light"
     },
     "output_type": "display_data"
    }
   ],
   "source": [
    "#print(df['year_of_release'].unique())\n",
    "\n",
    "#создаем сводную таблицу для определения количества выпущенных игр по годам\n",
    "\n",
    "df_year_count = df.pivot_table(index = ['year_of_release'], values = 'name', aggfunc = 'count') \n",
    "df_year_count = df_year_count.rename(columns = {'name':'count'}) \n",
    "\n",
    "display(df_year_count.sort_values(by='year_of_release', ascending=False))\n",
    "\n",
    "df_year_count.plot(kind = 'bar', title = 'Games to year', figsize = (10,5))\n",
    "plt.show()"
   ]
  },
  {
   "cell_type": "markdown",
   "metadata": {},
   "source": [
    "**В период 1980-1993г. была выпущена 351 игра, это примерно 25 в год. В период 1994-2001г. была выпущена 2441 игра, это примерно 305 в год. В период 2002-2006г. - 4311 игр, примерно 862 в год. В 2007-2011г. - 6441 игра, примерно 1288 в год. В 2012-2016г. - 2886 игр, примерно 577 в год.**\n",
    "\n",
    "**Я думаю что для прогнозов достаточно будет последних 4-х лет. Т.к. в эти годы выпускалось примерно одинаковое количество игр.**"
   ]
  },
  {
   "cell_type": "markdown",
   "metadata": {},
   "source": [
    "# Шаг 3.2"
   ]
  },
  {
   "cell_type": "code",
   "execution_count": 5,
   "metadata": {},
   "outputs": [
    {
     "name": "stdout",
     "output_type": "stream",
     "text": [
      "['Wii' 'NES' 'GB' 'DS' 'X360' 'PS3' 'PS2' 'SNES' 'GBA' 'PS4' '3DS' 'N64'\n",
      " 'PS' 'XB' 'PC' '2600' 'PSP' 'XOne' 'WiiU' 'GC' 'GEN' 'DC' 'PSV' 'SAT'\n",
      " 'SCD' 'WS' 'NG' 'TG16' '3DO' 'GG' 'PCFX']\n"
     ]
    },
    {
     "data": {
      "text/html": [
       "<div>\n",
       "<style scoped>\n",
       "    .dataframe tbody tr th:only-of-type {\n",
       "        vertical-align: middle;\n",
       "    }\n",
       "\n",
       "    .dataframe tbody tr th {\n",
       "        vertical-align: top;\n",
       "    }\n",
       "\n",
       "    .dataframe thead th {\n",
       "        text-align: right;\n",
       "    }\n",
       "</style>\n",
       "<table border=\"1\" class=\"dataframe\">\n",
       "  <thead>\n",
       "    <tr style=\"text-align: right;\">\n",
       "      <th></th>\n",
       "      <th>global_sales</th>\n",
       "    </tr>\n",
       "    <tr>\n",
       "      <th>platform</th>\n",
       "      <th></th>\n",
       "    </tr>\n",
       "  </thead>\n",
       "  <tbody>\n",
       "    <tr>\n",
       "      <td>PS2</td>\n",
       "      <td>1233.56</td>\n",
       "    </tr>\n",
       "    <tr>\n",
       "      <td>X360</td>\n",
       "      <td>961.24</td>\n",
       "    </tr>\n",
       "    <tr>\n",
       "      <td>PS3</td>\n",
       "      <td>931.34</td>\n",
       "    </tr>\n",
       "    <tr>\n",
       "      <td>Wii</td>\n",
       "      <td>891.18</td>\n",
       "    </tr>\n",
       "    <tr>\n",
       "      <td>DS</td>\n",
       "      <td>802.78</td>\n",
       "    </tr>\n",
       "    <tr>\n",
       "      <td>PS</td>\n",
       "      <td>727.58</td>\n",
       "    </tr>\n",
       "    <tr>\n",
       "      <td>PS4</td>\n",
       "      <td>314.14</td>\n",
       "    </tr>\n",
       "    <tr>\n",
       "      <td>GBA</td>\n",
       "      <td>312.88</td>\n",
       "    </tr>\n",
       "    <tr>\n",
       "      <td>PSP</td>\n",
       "      <td>289.53</td>\n",
       "    </tr>\n",
       "    <tr>\n",
       "      <td>3DS</td>\n",
       "      <td>257.81</td>\n",
       "    </tr>\n",
       "    <tr>\n",
       "      <td>PC</td>\n",
       "      <td>255.76</td>\n",
       "    </tr>\n",
       "    <tr>\n",
       "      <td>GB</td>\n",
       "      <td>254.43</td>\n",
       "    </tr>\n",
       "    <tr>\n",
       "      <td>XB</td>\n",
       "      <td>251.57</td>\n",
       "    </tr>\n",
       "    <tr>\n",
       "      <td>NES</td>\n",
       "      <td>251.05</td>\n",
       "    </tr>\n",
       "    <tr>\n",
       "      <td>N64</td>\n",
       "      <td>218.01</td>\n",
       "    </tr>\n",
       "    <tr>\n",
       "      <td>SNES</td>\n",
       "      <td>200.04</td>\n",
       "    </tr>\n",
       "    <tr>\n",
       "      <td>GC</td>\n",
       "      <td>196.73</td>\n",
       "    </tr>\n",
       "    <tr>\n",
       "      <td>XOne</td>\n",
       "      <td>159.32</td>\n",
       "    </tr>\n",
       "    <tr>\n",
       "      <td>2600</td>\n",
       "      <td>86.48</td>\n",
       "    </tr>\n",
       "    <tr>\n",
       "      <td>WiiU</td>\n",
       "      <td>82.19</td>\n",
       "    </tr>\n",
       "    <tr>\n",
       "      <td>PSV</td>\n",
       "      <td>53.81</td>\n",
       "    </tr>\n",
       "    <tr>\n",
       "      <td>SAT</td>\n",
       "      <td>33.59</td>\n",
       "    </tr>\n",
       "    <tr>\n",
       "      <td>GEN</td>\n",
       "      <td>28.35</td>\n",
       "    </tr>\n",
       "    <tr>\n",
       "      <td>DC</td>\n",
       "      <td>15.95</td>\n",
       "    </tr>\n",
       "    <tr>\n",
       "      <td>SCD</td>\n",
       "      <td>1.86</td>\n",
       "    </tr>\n",
       "    <tr>\n",
       "      <td>NG</td>\n",
       "      <td>1.44</td>\n",
       "    </tr>\n",
       "    <tr>\n",
       "      <td>WS</td>\n",
       "      <td>1.42</td>\n",
       "    </tr>\n",
       "    <tr>\n",
       "      <td>TG16</td>\n",
       "      <td>0.16</td>\n",
       "    </tr>\n",
       "    <tr>\n",
       "      <td>3DO</td>\n",
       "      <td>0.10</td>\n",
       "    </tr>\n",
       "    <tr>\n",
       "      <td>GG</td>\n",
       "      <td>0.04</td>\n",
       "    </tr>\n",
       "    <tr>\n",
       "      <td>PCFX</td>\n",
       "      <td>0.03</td>\n",
       "    </tr>\n",
       "  </tbody>\n",
       "</table>\n",
       "</div>"
      ],
      "text/plain": [
       "          global_sales\n",
       "platform              \n",
       "PS2            1233.56\n",
       "X360            961.24\n",
       "PS3             931.34\n",
       "Wii             891.18\n",
       "DS              802.78\n",
       "PS              727.58\n",
       "PS4             314.14\n",
       "GBA             312.88\n",
       "PSP             289.53\n",
       "3DS             257.81\n",
       "PC              255.76\n",
       "GB              254.43\n",
       "XB              251.57\n",
       "NES             251.05\n",
       "N64             218.01\n",
       "SNES            200.04\n",
       "GC              196.73\n",
       "XOne            159.32\n",
       "2600             86.48\n",
       "WiiU             82.19\n",
       "PSV              53.81\n",
       "SAT              33.59\n",
       "GEN              28.35\n",
       "DC               15.95\n",
       "SCD               1.86\n",
       "NG                1.44\n",
       "WS                1.42\n",
       "TG16              0.16\n",
       "3DO               0.10\n",
       "GG                0.04\n",
       "PCFX              0.03"
      ]
     },
     "metadata": {},
     "output_type": "display_data"
    }
   ],
   "source": [
    "print(df['platform'].unique())\n",
    "\n",
    "df_platform_sales = df.pivot_table(index = ['platform'], values = 'global_sales', aggfunc = 'sum')\n",
    "display(df_platform_sales.sort_values(by='global_sales', ascending=False))\n"
   ]
  },
  {
   "cell_type": "code",
   "execution_count": 6,
   "metadata": {},
   "outputs": [
    {
     "data": {
      "image/png": "[encoded data removed]",
      "text/plain": [
       "<Figure size 1080x720 with 1 Axes>"
      ]
     },
     "metadata": {
      "needs_background": "light"
     },
     "output_type": "display_data"
    }
   ],
   "source": [
    "#создаем список топ платформ\n",
    "top_platforms = ['PS2','X360','PS3','Wii','DS','PS','PS4','GBA','PSP','3DS','PC']\n",
    "\n",
    "#создаем сводную таблицу с топ платформами\n",
    "df_top_platforms = df.query('platform in @top_platforms').pivot_table(index='year_of_release', columns = 'platform', values='global_sales', aggfunc='sum')\n",
    "\n",
    "#строим графики продаж топ платформ по годам\n",
    "df_top_platforms.plot(grid=True, title = 'Sales to year', figsize=(15, 10))\n",
    "plt.show()"
   ]
  },
  {
   "cell_type": "code",
   "execution_count": 7,
   "metadata": {},
   "outputs": [
    {
     "data": {
      "image/png": "[encoded data removed]",
      "text/plain": [
       "<Figure size 1080x720 with 1 Axes>"
      ]
     },
     "metadata": {
      "needs_background": "light"
     },
     "output_type": "display_data"
    }
   ],
   "source": [
    "#создаем список \"не топ платформ\", но еще и \"не дно\"\n",
    "middle_platforms = ['GB','XB','NES','N64','SNES','GC','XOne','2600','WiiU','PSV']\n",
    "\n",
    "#создаем сводную таблицу с платформами, средними по продажам\n",
    "df_middle_platforms = df.query('platform in @middle_platforms').pivot_table(index='year_of_release', columns = 'platform', values='global_sales', aggfunc='sum')\n",
    "\n",
    "#строим графики продаж \"нетоп\" платформ по годам\n",
    "df_middle_platforms.plot(grid=True, title = 'Sales to year', figsize=(15, 10))\n",
    "plt.show()"
   ]
  },
  {
   "cell_type": "code",
   "execution_count": 8,
   "metadata": {},
   "outputs": [
    {
     "data": {
      "image/png": "[encoded data removed]",
      "text/plain": [
       "<Figure size 1080x720 with 1 Axes>"
      ]
     },
     "metadata": {
      "needs_background": "light"
     },
     "output_type": "display_data"
    }
   ],
   "source": [
    "#на \"всякий\" случай создаем список \"дно-платформ\"\n",
    "bottom_platforms = ['SAT','GEN','DC','SCD','NG','WS','TG16','3DO','GG','PCFX']\n",
    "\n",
    "#создаем сводную таблицу с \"дно-платформами\"\n",
    "df_bottom_platforms = df.query('platform in @bottom_platforms').pivot_table(index='year_of_release', columns = 'platform', values='global_sales', aggfunc='sum')\n",
    "\n",
    "#строим графики продаж \"дно\" платформ по годам\n",
    "df_bottom_platforms.plot(grid=True, title = 'Sales to year', figsize=(15, 10))\n",
    "plt.show()"
   ]
  },
  {
   "cell_type": "markdown",
   "metadata": {},
   "source": [
    "**Как и следовало ожидать, \"дноплатформы\" нам не интересны, т.к. давно утратили свою актуальность.**\n",
    "\n",
    "**Некоторые платформы еще входят в топ по продажам, но это продажи прошлых лет, игры на этих платформах уже не продаются.**\n",
    "\n",
    "**Если бы я не построил график платформ со средними продажами, то можно было пропустить актуальные платформы, которые еще не израсходовали свой потенциал, такие как \"PSV\",\"WiiU\" и \"Xbox One\".**\n",
    "\n",
    "**Средний срок \"жизни\" платформы, согласно графикам, примерно 10 лет, но есть \"РС\", который \"вечен\".**"
   ]
  },
  {
   "cell_type": "markdown",
   "metadata": {},
   "source": [
    "# Шаг 3.3"
   ]
  },
  {
   "cell_type": "markdown",
   "metadata": {},
   "source": [
    "*Актуальный период возьмем 2013-2016 годы, за этот период выпускалось примерно одинаковое количество игр.*"
   ]
  },
  {
   "cell_type": "code",
   "execution_count": 9,
   "metadata": {
    "scrolled": false
   },
   "outputs": [
    {
     "name": "stdout",
     "output_type": "stream",
     "text": [
      "<class 'pandas.core.frame.DataFrame'>\n",
      "Int64Index: 2233 entries, 16 to 16714\n",
      "Data columns (total 12 columns):\n",
      "name               2233 non-null object\n",
      "platform           2233 non-null object\n",
      "year_of_release    2233 non-null int64\n",
      "genre              2233 non-null object\n",
      "na_sales           2233 non-null float64\n",
      "eu_sales           2233 non-null float64\n",
      "jp_sales           2233 non-null float64\n",
      "other_sales        2233 non-null float64\n",
      "critic_score       991 non-null float64\n",
      "user_score         1192 non-null float64\n",
      "rating             1256 non-null object\n",
      "global_sales       2233 non-null float64\n",
      "dtypes: float64(7), int64(1), object(4)\n",
      "memory usage: 226.8+ KB\n"
     ]
    },
    {
     "data": {
      "text/html": [
       "<div>\n",
       "<style scoped>\n",
       "    .dataframe tbody tr th:only-of-type {\n",
       "        vertical-align: middle;\n",
       "    }\n",
       "\n",
       "    .dataframe tbody tr th {\n",
       "        vertical-align: top;\n",
       "    }\n",
       "\n",
       "    .dataframe thead th {\n",
       "        text-align: right;\n",
       "    }\n",
       "</style>\n",
       "<table border=\"1\" class=\"dataframe\">\n",
       "  <thead>\n",
       "    <tr style=\"text-align: right;\">\n",
       "      <th></th>\n",
       "      <th>name</th>\n",
       "      <th>platform</th>\n",
       "      <th>year_of_release</th>\n",
       "      <th>genre</th>\n",
       "      <th>na_sales</th>\n",
       "      <th>eu_sales</th>\n",
       "      <th>jp_sales</th>\n",
       "      <th>other_sales</th>\n",
       "      <th>critic_score</th>\n",
       "      <th>user_score</th>\n",
       "      <th>rating</th>\n",
       "      <th>global_sales</th>\n",
       "    </tr>\n",
       "  </thead>\n",
       "  <tbody>\n",
       "    <tr>\n",
       "      <td>16</td>\n",
       "      <td>Grand Theft Auto V</td>\n",
       "      <td>PS3</td>\n",
       "      <td>2013</td>\n",
       "      <td>Action</td>\n",
       "      <td>7.02</td>\n",
       "      <td>9.09</td>\n",
       "      <td>0.98</td>\n",
       "      <td>3.96</td>\n",
       "      <td>97.0</td>\n",
       "      <td>8.2</td>\n",
       "      <td>M</td>\n",
       "      <td>21.05</td>\n",
       "    </tr>\n",
       "    <tr>\n",
       "      <td>23</td>\n",
       "      <td>Grand Theft Auto V</td>\n",
       "      <td>X360</td>\n",
       "      <td>2013</td>\n",
       "      <td>Action</td>\n",
       "      <td>9.66</td>\n",
       "      <td>5.14</td>\n",
       "      <td>0.06</td>\n",
       "      <td>1.41</td>\n",
       "      <td>97.0</td>\n",
       "      <td>8.1</td>\n",
       "      <td>M</td>\n",
       "      <td>16.27</td>\n",
       "    </tr>\n",
       "    <tr>\n",
       "      <td>31</td>\n",
       "      <td>Call of Duty: Black Ops 3</td>\n",
       "      <td>PS4</td>\n",
       "      <td>2015</td>\n",
       "      <td>Shooter</td>\n",
       "      <td>6.03</td>\n",
       "      <td>5.86</td>\n",
       "      <td>0.36</td>\n",
       "      <td>2.38</td>\n",
       "      <td>NaN</td>\n",
       "      <td>NaN</td>\n",
       "      <td>NaN</td>\n",
       "      <td>14.63</td>\n",
       "    </tr>\n",
       "    <tr>\n",
       "      <td>33</td>\n",
       "      <td>Pokemon X/Pokemon Y</td>\n",
       "      <td>3DS</td>\n",
       "      <td>2013</td>\n",
       "      <td>Role-Playing</td>\n",
       "      <td>5.28</td>\n",
       "      <td>4.19</td>\n",
       "      <td>4.35</td>\n",
       "      <td>0.78</td>\n",
       "      <td>NaN</td>\n",
       "      <td>NaN</td>\n",
       "      <td>NaN</td>\n",
       "      <td>14.60</td>\n",
       "    </tr>\n",
       "    <tr>\n",
       "      <td>42</td>\n",
       "      <td>Grand Theft Auto V</td>\n",
       "      <td>PS4</td>\n",
       "      <td>2014</td>\n",
       "      <td>Action</td>\n",
       "      <td>3.96</td>\n",
       "      <td>6.31</td>\n",
       "      <td>0.38</td>\n",
       "      <td>1.97</td>\n",
       "      <td>97.0</td>\n",
       "      <td>8.3</td>\n",
       "      <td>M</td>\n",
       "      <td>12.62</td>\n",
       "    </tr>\n",
       "    <tr>\n",
       "      <td>47</td>\n",
       "      <td>Pokemon Omega Ruby/Pokemon Alpha Sapphire</td>\n",
       "      <td>3DS</td>\n",
       "      <td>2014</td>\n",
       "      <td>Role-Playing</td>\n",
       "      <td>4.35</td>\n",
       "      <td>3.49</td>\n",
       "      <td>3.10</td>\n",
       "      <td>0.74</td>\n",
       "      <td>NaN</td>\n",
       "      <td>NaN</td>\n",
       "      <td>NaN</td>\n",
       "      <td>11.68</td>\n",
       "    </tr>\n",
       "    <tr>\n",
       "      <td>60</td>\n",
       "      <td>Call of Duty: Ghosts</td>\n",
       "      <td>X360</td>\n",
       "      <td>2013</td>\n",
       "      <td>Shooter</td>\n",
       "      <td>6.73</td>\n",
       "      <td>2.56</td>\n",
       "      <td>0.04</td>\n",
       "      <td>0.91</td>\n",
       "      <td>73.0</td>\n",
       "      <td>2.6</td>\n",
       "      <td>M</td>\n",
       "      <td>10.24</td>\n",
       "    </tr>\n",
       "    <tr>\n",
       "      <td>69</td>\n",
       "      <td>Call of Duty: Ghosts</td>\n",
       "      <td>PS3</td>\n",
       "      <td>2013</td>\n",
       "      <td>Shooter</td>\n",
       "      <td>4.10</td>\n",
       "      <td>3.63</td>\n",
       "      <td>0.38</td>\n",
       "      <td>1.25</td>\n",
       "      <td>71.0</td>\n",
       "      <td>2.6</td>\n",
       "      <td>M</td>\n",
       "      <td>9.36</td>\n",
       "    </tr>\n",
       "    <tr>\n",
       "      <td>72</td>\n",
       "      <td>Minecraft</td>\n",
       "      <td>X360</td>\n",
       "      <td>2013</td>\n",
       "      <td>Misc</td>\n",
       "      <td>5.70</td>\n",
       "      <td>2.65</td>\n",
       "      <td>0.02</td>\n",
       "      <td>0.81</td>\n",
       "      <td>NaN</td>\n",
       "      <td>NaN</td>\n",
       "      <td>NaN</td>\n",
       "      <td>9.18</td>\n",
       "    </tr>\n",
       "    <tr>\n",
       "      <td>77</td>\n",
       "      <td>FIFA 16</td>\n",
       "      <td>PS4</td>\n",
       "      <td>2015</td>\n",
       "      <td>Sports</td>\n",
       "      <td>1.12</td>\n",
       "      <td>6.12</td>\n",
       "      <td>0.06</td>\n",
       "      <td>1.28</td>\n",
       "      <td>82.0</td>\n",
       "      <td>4.3</td>\n",
       "      <td>E</td>\n",
       "      <td>8.58</td>\n",
       "    </tr>\n",
       "    <tr>\n",
       "      <td>87</td>\n",
       "      <td>Star Wars Battlefront (2015)</td>\n",
       "      <td>PS4</td>\n",
       "      <td>2015</td>\n",
       "      <td>Shooter</td>\n",
       "      <td>2.99</td>\n",
       "      <td>3.49</td>\n",
       "      <td>0.22</td>\n",
       "      <td>1.28</td>\n",
       "      <td>NaN</td>\n",
       "      <td>NaN</td>\n",
       "      <td>NaN</td>\n",
       "      <td>7.98</td>\n",
       "    </tr>\n",
       "    <tr>\n",
       "      <td>92</td>\n",
       "      <td>Call of Duty: Advanced Warfare</td>\n",
       "      <td>PS4</td>\n",
       "      <td>2014</td>\n",
       "      <td>Shooter</td>\n",
       "      <td>2.81</td>\n",
       "      <td>3.48</td>\n",
       "      <td>0.14</td>\n",
       "      <td>1.23</td>\n",
       "      <td>83.0</td>\n",
       "      <td>5.7</td>\n",
       "      <td>M</td>\n",
       "      <td>7.66</td>\n",
       "    </tr>\n",
       "    <tr>\n",
       "      <td>94</td>\n",
       "      <td>FIFA 17</td>\n",
       "      <td>PS4</td>\n",
       "      <td>2016</td>\n",
       "      <td>Sports</td>\n",
       "      <td>0.66</td>\n",
       "      <td>5.75</td>\n",
       "      <td>0.08</td>\n",
       "      <td>1.11</td>\n",
       "      <td>85.0</td>\n",
       "      <td>5.0</td>\n",
       "      <td>E</td>\n",
       "      <td>7.60</td>\n",
       "    </tr>\n",
       "    <tr>\n",
       "      <td>96</td>\n",
       "      <td>Super Smash Bros. for Wii U and 3DS</td>\n",
       "      <td>3DS</td>\n",
       "      <td>2014</td>\n",
       "      <td>Fighting</td>\n",
       "      <td>3.27</td>\n",
       "      <td>1.37</td>\n",
       "      <td>2.43</td>\n",
       "      <td>0.48</td>\n",
       "      <td>NaN</td>\n",
       "      <td>NaN</td>\n",
       "      <td>NaN</td>\n",
       "      <td>7.55</td>\n",
       "    </tr>\n",
       "    <tr>\n",
       "      <td>99</td>\n",
       "      <td>Call of Duty: Black Ops 3</td>\n",
       "      <td>XOne</td>\n",
       "      <td>2015</td>\n",
       "      <td>Shooter</td>\n",
       "      <td>4.59</td>\n",
       "      <td>2.11</td>\n",
       "      <td>0.01</td>\n",
       "      <td>0.68</td>\n",
       "      <td>NaN</td>\n",
       "      <td>NaN</td>\n",
       "      <td>NaN</td>\n",
       "      <td>7.39</td>\n",
       "    </tr>\n",
       "    <tr>\n",
       "      <td>105</td>\n",
       "      <td>Fallout 4</td>\n",
       "      <td>PS4</td>\n",
       "      <td>2015</td>\n",
       "      <td>Role-Playing</td>\n",
       "      <td>2.53</td>\n",
       "      <td>3.27</td>\n",
       "      <td>0.24</td>\n",
       "      <td>1.13</td>\n",
       "      <td>87.0</td>\n",
       "      <td>6.5</td>\n",
       "      <td>M</td>\n",
       "      <td>7.17</td>\n",
       "    </tr>\n",
       "    <tr>\n",
       "      <td>108</td>\n",
       "      <td>Pokemon Sun/Moon</td>\n",
       "      <td>3DS</td>\n",
       "      <td>2016</td>\n",
       "      <td>Role-Playing</td>\n",
       "      <td>2.98</td>\n",
       "      <td>1.45</td>\n",
       "      <td>2.26</td>\n",
       "      <td>0.45</td>\n",
       "      <td>NaN</td>\n",
       "      <td>NaN</td>\n",
       "      <td>NaN</td>\n",
       "      <td>7.14</td>\n",
       "    </tr>\n",
       "    <tr>\n",
       "      <td>110</td>\n",
       "      <td>Mario Kart 8</td>\n",
       "      <td>WiiU</td>\n",
       "      <td>2014</td>\n",
       "      <td>Racing</td>\n",
       "      <td>3.15</td>\n",
       "      <td>2.15</td>\n",
       "      <td>1.28</td>\n",
       "      <td>0.51</td>\n",
       "      <td>88.0</td>\n",
       "      <td>9.1</td>\n",
       "      <td>E</td>\n",
       "      <td>7.09</td>\n",
       "    </tr>\n",
       "    <tr>\n",
       "      <td>126</td>\n",
       "      <td>FIFA 14</td>\n",
       "      <td>PS3</td>\n",
       "      <td>2013</td>\n",
       "      <td>Sports</td>\n",
       "      <td>0.78</td>\n",
       "      <td>4.24</td>\n",
       "      <td>0.07</td>\n",
       "      <td>1.37</td>\n",
       "      <td>86.0</td>\n",
       "      <td>4.3</td>\n",
       "      <td>E</td>\n",
       "      <td>6.46</td>\n",
       "    </tr>\n",
       "    <tr>\n",
       "      <td>143</td>\n",
       "      <td>FIFA 15</td>\n",
       "      <td>PS4</td>\n",
       "      <td>2014</td>\n",
       "      <td>Sports</td>\n",
       "      <td>0.80</td>\n",
       "      <td>4.33</td>\n",
       "      <td>0.05</td>\n",
       "      <td>0.90</td>\n",
       "      <td>82.0</td>\n",
       "      <td>5.7</td>\n",
       "      <td>E</td>\n",
       "      <td>6.08</td>\n",
       "    </tr>\n",
       "  </tbody>\n",
       "</table>\n",
       "</div>"
      ],
      "text/plain": [
       "                                          name platform  year_of_release  \\\n",
       "16                          Grand Theft Auto V      PS3             2013   \n",
       "23                          Grand Theft Auto V     X360             2013   \n",
       "31                   Call of Duty: Black Ops 3      PS4             2015   \n",
       "33                         Pokemon X/Pokemon Y      3DS             2013   \n",
       "42                          Grand Theft Auto V      PS4             2014   \n",
       "47   Pokemon Omega Ruby/Pokemon Alpha Sapphire      3DS             2014   \n",
       "60                        Call of Duty: Ghosts     X360             2013   \n",
       "69                        Call of Duty: Ghosts      PS3             2013   \n",
       "72                                   Minecraft     X360             2013   \n",
       "77                                     FIFA 16      PS4             2015   \n",
       "87                Star Wars Battlefront (2015)      PS4             2015   \n",
       "92              Call of Duty: Advanced Warfare      PS4             2014   \n",
       "94                                     FIFA 17      PS4             2016   \n",
       "96         Super Smash Bros. for Wii U and 3DS      3DS             2014   \n",
       "99                   Call of Duty: Black Ops 3     XOne             2015   \n",
       "105                                  Fallout 4      PS4             2015   \n",
       "108                           Pokemon Sun/Moon      3DS             2016   \n",
       "110                               Mario Kart 8     WiiU             2014   \n",
       "126                                    FIFA 14      PS3             2013   \n",
       "143                                    FIFA 15      PS4             2014   \n",
       "\n",
       "            genre  na_sales  eu_sales  jp_sales  other_sales  critic_score  \\\n",
       "16         Action      7.02      9.09      0.98         3.96          97.0   \n",
       "23         Action      9.66      5.14      0.06         1.41          97.0   \n",
       "31        Shooter      6.03      5.86      0.36         2.38           NaN   \n",
       "33   Role-Playing      5.28      4.19      4.35         0.78           NaN   \n",
       "42         Action      3.96      6.31      0.38         1.97          97.0   \n",
       "47   Role-Playing      4.35      3.49      3.10         0.74           NaN   \n",
       "60        Shooter      6.73      2.56      0.04         0.91          73.0   \n",
       "69        Shooter      4.10      3.63      0.38         1.25          71.0   \n",
       "72           Misc      5.70      2.65      0.02         0.81           NaN   \n",
       "77         Sports      1.12      6.12      0.06         1.28          82.0   \n",
       "87        Shooter      2.99      3.49      0.22         1.28           NaN   \n",
       "92        Shooter      2.81      3.48      0.14         1.23          83.0   \n",
       "94         Sports      0.66      5.75      0.08         1.11          85.0   \n",
       "96       Fighting      3.27      1.37      2.43         0.48           NaN   \n",
       "99        Shooter      4.59      2.11      0.01         0.68           NaN   \n",
       "105  Role-Playing      2.53      3.27      0.24         1.13          87.0   \n",
       "108  Role-Playing      2.98      1.45      2.26         0.45           NaN   \n",
       "110        Racing      3.15      2.15      1.28         0.51          88.0   \n",
       "126        Sports      0.78      4.24      0.07         1.37          86.0   \n",
       "143        Sports      0.80      4.33      0.05         0.90          82.0   \n",
       "\n",
       "     user_score rating  global_sales  \n",
       "16          8.2      M         21.05  \n",
       "23          8.1      M         16.27  \n",
       "31          NaN    NaN         14.63  \n",
       "33          NaN    NaN         14.60  \n",
       "42          8.3      M         12.62  \n",
       "47          NaN    NaN         11.68  \n",
       "60          2.6      M         10.24  \n",
       "69          2.6      M          9.36  \n",
       "72          NaN    NaN          9.18  \n",
       "77          4.3      E          8.58  \n",
       "87          NaN    NaN          7.98  \n",
       "92          5.7      M          7.66  \n",
       "94          5.0      E          7.60  \n",
       "96          NaN    NaN          7.55  \n",
       "99          NaN    NaN          7.39  \n",
       "105         6.5      M          7.17  \n",
       "108         NaN    NaN          7.14  \n",
       "110         9.1      E          7.09  \n",
       "126         4.3      E          6.46  \n",
       "143         5.7      E          6.08  "
      ]
     },
     "metadata": {},
     "output_type": "display_data"
    }
   ],
   "source": [
    "df_topical = df.query('year_of_release>2012') # оставляем в таблице \"актуальные\" данные \n",
    "df_topical.info()\n",
    "display(df_topical.head(20))"
   ]
  },
  {
   "cell_type": "markdown",
   "metadata": {},
   "source": [
    "# Шаг 3.4"
   ]
  },
  {
   "cell_type": "code",
   "execution_count": 10,
   "metadata": {},
   "outputs": [
    {
     "data": {
      "text/html": [
       "<div>\n",
       "<style scoped>\n",
       "    .dataframe tbody tr th:only-of-type {\n",
       "        vertical-align: middle;\n",
       "    }\n",
       "\n",
       "    .dataframe tbody tr th {\n",
       "        vertical-align: top;\n",
       "    }\n",
       "\n",
       "    .dataframe thead th {\n",
       "        text-align: right;\n",
       "    }\n",
       "</style>\n",
       "<table border=\"1\" class=\"dataframe\">\n",
       "  <thead>\n",
       "    <tr style=\"text-align: right;\">\n",
       "      <th></th>\n",
       "      <th>global_sales</th>\n",
       "      <th>%</th>\n",
       "    </tr>\n",
       "    <tr>\n",
       "      <th>platform</th>\n",
       "      <th></th>\n",
       "      <th></th>\n",
       "    </tr>\n",
       "  </thead>\n",
       "  <tbody>\n",
       "    <tr>\n",
       "      <td>PS4</td>\n",
       "      <td>314.14</td>\n",
       "      <td>28.8</td>\n",
       "    </tr>\n",
       "    <tr>\n",
       "      <td>PS3</td>\n",
       "      <td>181.43</td>\n",
       "      <td>16.6</td>\n",
       "    </tr>\n",
       "    <tr>\n",
       "      <td>XOne</td>\n",
       "      <td>159.32</td>\n",
       "      <td>14.6</td>\n",
       "    </tr>\n",
       "    <tr>\n",
       "      <td>3DS</td>\n",
       "      <td>143.25</td>\n",
       "      <td>13.1</td>\n",
       "    </tr>\n",
       "    <tr>\n",
       "      <td>X360</td>\n",
       "      <td>136.80</td>\n",
       "      <td>12.5</td>\n",
       "    </tr>\n",
       "    <tr>\n",
       "      <td>WiiU</td>\n",
       "      <td>64.63</td>\n",
       "      <td>5.9</td>\n",
       "    </tr>\n",
       "    <tr>\n",
       "      <td>PC</td>\n",
       "      <td>39.43</td>\n",
       "      <td>3.6</td>\n",
       "    </tr>\n",
       "    <tr>\n",
       "      <td>PSV</td>\n",
       "      <td>32.99</td>\n",
       "      <td>3.0</td>\n",
       "    </tr>\n",
       "    <tr>\n",
       "      <td>Wii</td>\n",
       "      <td>13.66</td>\n",
       "      <td>1.3</td>\n",
       "    </tr>\n",
       "    <tr>\n",
       "      <td>PSP</td>\n",
       "      <td>3.50</td>\n",
       "      <td>0.3</td>\n",
       "    </tr>\n",
       "    <tr>\n",
       "      <td>DS</td>\n",
       "      <td>1.54</td>\n",
       "      <td>0.1</td>\n",
       "    </tr>\n",
       "  </tbody>\n",
       "</table>\n",
       "</div>"
      ],
      "text/plain": [
       "          global_sales     %\n",
       "platform                    \n",
       "PS4             314.14  28.8\n",
       "PS3             181.43  16.6\n",
       "XOne            159.32  14.6\n",
       "3DS             143.25  13.1\n",
       "X360            136.80  12.5\n",
       "WiiU             64.63   5.9\n",
       "PC               39.43   3.6\n",
       "PSV              32.99   3.0\n",
       "Wii              13.66   1.3\n",
       "PSP               3.50   0.3\n",
       "DS                1.54   0.1"
      ]
     },
     "metadata": {},
     "output_type": "display_data"
    }
   ],
   "source": [
    "#print(df_topical['platform'].unique())\n",
    "#создаем сводную таблицу глобальных продаж по платформам\n",
    "df_topical_platform_sales = df_topical.pivot_table(index = ['platform'], values = 'global_sales', aggfunc = 'sum')\n",
    "\n",
    "#добавляем столбец с процентами от общего количества\n",
    "df_topical_platform_sales['%'] = (df_topical_platform_sales['global_sales'] / df_topical_platform_sales['global_sales'].sum() * 100).round(1)\n",
    "display(df_topical_platform_sales.sort_values(by='global_sales', ascending=False))"
   ]
  },
  {
   "cell_type": "code",
   "execution_count": 11,
   "metadata": {},
   "outputs": [
    {
     "data": {
      "image/png": "[encoded data removed]",
      "text/plain": [
       "<Figure size 1080x720 with 1 Axes>"
      ]
     },
     "metadata": {
      "needs_background": "light"
     },
     "output_type": "display_data"
    }
   ],
   "source": [
    "#строим график продаж платформ по годам\n",
    "df_topical.pivot_table(index='year_of_release', columns = 'platform', values='global_sales', aggfunc='sum').plot(grid=True,title = 'Sales to year',  figsize=(15, 10))\n",
    "plt.show()"
   ]
  },
  {
   "cell_type": "markdown",
   "metadata": {},
   "source": [
    "**Несомненно лидируют по продажам платформы \"PlayStation 4\",\"PlayStation 3\",\"Xbox One\",\"Nintendo 3DS\" и \"Xbox360\".На долю продаж игр этих платформ приходится примерно 85,6%. Явные лидеры : \"PlayStation 4\" и \"PlayStation 3\", на долю продаж игр этих платформ приходится 28,8% и 16,3% соответственно.**\n",
    "\n",
    "**Но согласно графику с 2015 года практически у всех платформ продажи падают. Отдельной строкой можно отметить \"РС\", на протяжении почти 30 лет продажи примерно в \"одной поре\".**"
   ]
  },
  {
   "cell_type": "markdown",
   "metadata": {},
   "source": [
    "# Шаг 3.5"
   ]
  },
  {
   "cell_type": "code",
   "execution_count": 12,
   "metadata": {
    "scrolled": false
   },
   "outputs": [
    {
     "data": {
      "image/png": "[encoded data removed]",
      "text/plain": [
       "<Figure size 1440x720 with 1 Axes>"
      ]
     },
     "metadata": {
      "needs_background": "light"
     },
     "output_type": "display_data"
    },
    {
     "data": {
      "image/png": "[encoded data removed]",
      "text/plain": [
       "<Figure size 720x360 with 1 Axes>"
      ]
     },
     "metadata": {
      "needs_background": "light"
     },
     "output_type": "display_data"
    }
   ],
   "source": [
    "# строим график \"ящик с усами\" по глобальным продажам в разбивке по платформам\n",
    "df_topical.boxplot(column = 'global_sales',by = 'platform',figsize = (20,10))\n",
    "plt.ylim(0, 2)\n",
    "\n",
    "#на \"всякий случай\" строим столбчатую диаграмму глобальных продаж по платформам \n",
    "df_topical.pivot_table(index = 'platform', values = 'global_sales').plot(kind = 'bar', title = 'Продажи по платформам', figsize = (10,5))\n",
    "plt.show()"
   ]
  },
  {
   "cell_type": "markdown",
   "metadata": {},
   "source": [
    "**Нижний ус упирается в 0. Граница верхних усов у всех разная, где-то 0,5, где-то 1 - в любом случае это граница нормального размаха. Всё, что находится за верхней границей - считается выбросами.  Они рисуются отдельными точками, но где-то сливаются в одну линию. Наверное, значения которые отсек верхний ус можно считать \"редкими\". Видно, насколько медиана (зелёная линия) не стремится к длинному хвосту высоких значений.**\n",
    "\n",
    "**На столбчатой диаграмме более наглядно выглядят продажи по платформам.**"
   ]
  },
  {
   "cell_type": "markdown",
   "metadata": {},
   "source": [
    "# Шаг 3.6"
   ]
  },
  {
   "cell_type": "code",
   "execution_count": 13,
   "metadata": {},
   "outputs": [
    {
     "name": "stdout",
     "output_type": "stream",
     "text": [
      "<class 'pandas.core.frame.DataFrame'>\n",
      "Int64Index: 392 entries, 31 to 16585\n",
      "Data columns (total 12 columns):\n",
      "name               392 non-null object\n",
      "platform           392 non-null object\n",
      "year_of_release    392 non-null int64\n",
      "genre              392 non-null object\n",
      "na_sales           392 non-null float64\n",
      "eu_sales           392 non-null float64\n",
      "jp_sales           392 non-null float64\n",
      "other_sales        392 non-null float64\n",
      "critic_score       252 non-null float64\n",
      "user_score         257 non-null float64\n",
      "rating             255 non-null object\n",
      "global_sales       392 non-null float64\n",
      "dtypes: float64(7), int64(1), object(4)\n",
      "memory usage: 39.8+ KB\n"
     ]
    },
    {
     "data": {
      "text/html": [
       "<div>\n",
       "<style scoped>\n",
       "    .dataframe tbody tr th:only-of-type {\n",
       "        vertical-align: middle;\n",
       "    }\n",
       "\n",
       "    .dataframe tbody tr th {\n",
       "        vertical-align: top;\n",
       "    }\n",
       "\n",
       "    .dataframe thead th {\n",
       "        text-align: right;\n",
       "    }\n",
       "</style>\n",
       "<table border=\"1\" class=\"dataframe\">\n",
       "  <thead>\n",
       "    <tr style=\"text-align: right;\">\n",
       "      <th></th>\n",
       "      <th>name</th>\n",
       "      <th>platform</th>\n",
       "      <th>year_of_release</th>\n",
       "      <th>genre</th>\n",
       "      <th>na_sales</th>\n",
       "      <th>eu_sales</th>\n",
       "      <th>jp_sales</th>\n",
       "      <th>other_sales</th>\n",
       "      <th>critic_score</th>\n",
       "      <th>user_score</th>\n",
       "      <th>rating</th>\n",
       "      <th>global_sales</th>\n",
       "    </tr>\n",
       "  </thead>\n",
       "  <tbody>\n",
       "    <tr>\n",
       "      <td>31</td>\n",
       "      <td>Call of Duty: Black Ops 3</td>\n",
       "      <td>PS4</td>\n",
       "      <td>2015</td>\n",
       "      <td>Shooter</td>\n",
       "      <td>6.03</td>\n",
       "      <td>5.86</td>\n",
       "      <td>0.36</td>\n",
       "      <td>2.38</td>\n",
       "      <td>NaN</td>\n",
       "      <td>NaN</td>\n",
       "      <td>NaN</td>\n",
       "      <td>14.63</td>\n",
       "    </tr>\n",
       "    <tr>\n",
       "      <td>42</td>\n",
       "      <td>Grand Theft Auto V</td>\n",
       "      <td>PS4</td>\n",
       "      <td>2014</td>\n",
       "      <td>Action</td>\n",
       "      <td>3.96</td>\n",
       "      <td>6.31</td>\n",
       "      <td>0.38</td>\n",
       "      <td>1.97</td>\n",
       "      <td>97.0</td>\n",
       "      <td>8.3</td>\n",
       "      <td>M</td>\n",
       "      <td>12.62</td>\n",
       "    </tr>\n",
       "    <tr>\n",
       "      <td>77</td>\n",
       "      <td>FIFA 16</td>\n",
       "      <td>PS4</td>\n",
       "      <td>2015</td>\n",
       "      <td>Sports</td>\n",
       "      <td>1.12</td>\n",
       "      <td>6.12</td>\n",
       "      <td>0.06</td>\n",
       "      <td>1.28</td>\n",
       "      <td>82.0</td>\n",
       "      <td>4.3</td>\n",
       "      <td>E</td>\n",
       "      <td>8.58</td>\n",
       "    </tr>\n",
       "    <tr>\n",
       "      <td>87</td>\n",
       "      <td>Star Wars Battlefront (2015)</td>\n",
       "      <td>PS4</td>\n",
       "      <td>2015</td>\n",
       "      <td>Shooter</td>\n",
       "      <td>2.99</td>\n",
       "      <td>3.49</td>\n",
       "      <td>0.22</td>\n",
       "      <td>1.28</td>\n",
       "      <td>NaN</td>\n",
       "      <td>NaN</td>\n",
       "      <td>NaN</td>\n",
       "      <td>7.98</td>\n",
       "    </tr>\n",
       "    <tr>\n",
       "      <td>92</td>\n",
       "      <td>Call of Duty: Advanced Warfare</td>\n",
       "      <td>PS4</td>\n",
       "      <td>2014</td>\n",
       "      <td>Shooter</td>\n",
       "      <td>2.81</td>\n",
       "      <td>3.48</td>\n",
       "      <td>0.14</td>\n",
       "      <td>1.23</td>\n",
       "      <td>83.0</td>\n",
       "      <td>5.7</td>\n",
       "      <td>M</td>\n",
       "      <td>7.66</td>\n",
       "    </tr>\n",
       "    <tr>\n",
       "      <td>94</td>\n",
       "      <td>FIFA 17</td>\n",
       "      <td>PS4</td>\n",
       "      <td>2016</td>\n",
       "      <td>Sports</td>\n",
       "      <td>0.66</td>\n",
       "      <td>5.75</td>\n",
       "      <td>0.08</td>\n",
       "      <td>1.11</td>\n",
       "      <td>85.0</td>\n",
       "      <td>5.0</td>\n",
       "      <td>E</td>\n",
       "      <td>7.60</td>\n",
       "    </tr>\n",
       "    <tr>\n",
       "      <td>105</td>\n",
       "      <td>Fallout 4</td>\n",
       "      <td>PS4</td>\n",
       "      <td>2015</td>\n",
       "      <td>Role-Playing</td>\n",
       "      <td>2.53</td>\n",
       "      <td>3.27</td>\n",
       "      <td>0.24</td>\n",
       "      <td>1.13</td>\n",
       "      <td>87.0</td>\n",
       "      <td>6.5</td>\n",
       "      <td>M</td>\n",
       "      <td>7.17</td>\n",
       "    </tr>\n",
       "    <tr>\n",
       "      <td>143</td>\n",
       "      <td>FIFA 15</td>\n",
       "      <td>PS4</td>\n",
       "      <td>2014</td>\n",
       "      <td>Sports</td>\n",
       "      <td>0.80</td>\n",
       "      <td>4.33</td>\n",
       "      <td>0.05</td>\n",
       "      <td>0.90</td>\n",
       "      <td>82.0</td>\n",
       "      <td>5.7</td>\n",
       "      <td>E</td>\n",
       "      <td>6.08</td>\n",
       "    </tr>\n",
       "    <tr>\n",
       "      <td>154</td>\n",
       "      <td>Destiny</td>\n",
       "      <td>PS4</td>\n",
       "      <td>2014</td>\n",
       "      <td>Shooter</td>\n",
       "      <td>2.49</td>\n",
       "      <td>2.07</td>\n",
       "      <td>0.16</td>\n",
       "      <td>0.92</td>\n",
       "      <td>76.0</td>\n",
       "      <td>6.1</td>\n",
       "      <td>T</td>\n",
       "      <td>5.64</td>\n",
       "    </tr>\n",
       "    <tr>\n",
       "      <td>171</td>\n",
       "      <td>Uncharted 4: A Thief's End</td>\n",
       "      <td>PS4</td>\n",
       "      <td>2016</td>\n",
       "      <td>Shooter</td>\n",
       "      <td>1.85</td>\n",
       "      <td>2.50</td>\n",
       "      <td>0.19</td>\n",
       "      <td>0.85</td>\n",
       "      <td>93.0</td>\n",
       "      <td>7.9</td>\n",
       "      <td>T</td>\n",
       "      <td>5.39</td>\n",
       "    </tr>\n",
       "    <tr>\n",
       "      <td>225</td>\n",
       "      <td>The Last of Us</td>\n",
       "      <td>PS4</td>\n",
       "      <td>2014</td>\n",
       "      <td>Action</td>\n",
       "      <td>1.88</td>\n",
       "      <td>2.00</td>\n",
       "      <td>0.07</td>\n",
       "      <td>0.77</td>\n",
       "      <td>NaN</td>\n",
       "      <td>NaN</td>\n",
       "      <td>NaN</td>\n",
       "      <td>4.72</td>\n",
       "    </tr>\n",
       "    <tr>\n",
       "      <td>231</td>\n",
       "      <td>Uncharted: The Nathan Drake Collection</td>\n",
       "      <td>PS4</td>\n",
       "      <td>2015</td>\n",
       "      <td>Action</td>\n",
       "      <td>2.07</td>\n",
       "      <td>1.71</td>\n",
       "      <td>0.08</td>\n",
       "      <td>0.76</td>\n",
       "      <td>86.0</td>\n",
       "      <td>8.1</td>\n",
       "      <td>T</td>\n",
       "      <td>4.62</td>\n",
       "    </tr>\n",
       "    <tr>\n",
       "      <td>245</td>\n",
       "      <td>Call of Duty: Infinite Warfare</td>\n",
       "      <td>PS4</td>\n",
       "      <td>2016</td>\n",
       "      <td>Shooter</td>\n",
       "      <td>1.61</td>\n",
       "      <td>2.00</td>\n",
       "      <td>0.15</td>\n",
       "      <td>0.71</td>\n",
       "      <td>77.0</td>\n",
       "      <td>3.4</td>\n",
       "      <td>M</td>\n",
       "      <td>4.47</td>\n",
       "    </tr>\n",
       "    <tr>\n",
       "      <td>261</td>\n",
       "      <td>Minecraft</td>\n",
       "      <td>PS4</td>\n",
       "      <td>2014</td>\n",
       "      <td>Misc</td>\n",
       "      <td>1.48</td>\n",
       "      <td>2.02</td>\n",
       "      <td>0.14</td>\n",
       "      <td>0.68</td>\n",
       "      <td>NaN</td>\n",
       "      <td>NaN</td>\n",
       "      <td>NaN</td>\n",
       "      <td>4.32</td>\n",
       "    </tr>\n",
       "    <tr>\n",
       "      <td>289</td>\n",
       "      <td>Battlefield 1</td>\n",
       "      <td>PS4</td>\n",
       "      <td>2016</td>\n",
       "      <td>Shooter</td>\n",
       "      <td>1.10</td>\n",
       "      <td>2.15</td>\n",
       "      <td>0.21</td>\n",
       "      <td>0.61</td>\n",
       "      <td>88.0</td>\n",
       "      <td>8.4</td>\n",
       "      <td>M</td>\n",
       "      <td>4.07</td>\n",
       "    </tr>\n",
       "    <tr>\n",
       "      <td>295</td>\n",
       "      <td>Watch Dogs</td>\n",
       "      <td>PS4</td>\n",
       "      <td>2014</td>\n",
       "      <td>Action</td>\n",
       "      <td>1.40</td>\n",
       "      <td>1.90</td>\n",
       "      <td>0.11</td>\n",
       "      <td>0.64</td>\n",
       "      <td>80.0</td>\n",
       "      <td>6.3</td>\n",
       "      <td>M</td>\n",
       "      <td>4.05</td>\n",
       "    </tr>\n",
       "    <tr>\n",
       "      <td>298</td>\n",
       "      <td>Far Cry 4</td>\n",
       "      <td>PS4</td>\n",
       "      <td>2014</td>\n",
       "      <td>Shooter</td>\n",
       "      <td>1.13</td>\n",
       "      <td>2.18</td>\n",
       "      <td>0.10</td>\n",
       "      <td>0.63</td>\n",
       "      <td>85.0</td>\n",
       "      <td>7.7</td>\n",
       "      <td>M</td>\n",
       "      <td>4.04</td>\n",
       "    </tr>\n",
       "    <tr>\n",
       "      <td>303</td>\n",
       "      <td>The Witcher 3: Wild Hunt</td>\n",
       "      <td>PS4</td>\n",
       "      <td>2015</td>\n",
       "      <td>Role-Playing</td>\n",
       "      <td>1.02</td>\n",
       "      <td>2.13</td>\n",
       "      <td>0.23</td>\n",
       "      <td>0.59</td>\n",
       "      <td>92.0</td>\n",
       "      <td>9.2</td>\n",
       "      <td>M</td>\n",
       "      <td>3.97</td>\n",
       "    </tr>\n",
       "    <tr>\n",
       "      <td>304</td>\n",
       "      <td>Assassin's Creed: Unity</td>\n",
       "      <td>PS4</td>\n",
       "      <td>2014</td>\n",
       "      <td>Action</td>\n",
       "      <td>1.19</td>\n",
       "      <td>2.07</td>\n",
       "      <td>0.08</td>\n",
       "      <td>0.62</td>\n",
       "      <td>70.0</td>\n",
       "      <td>4.9</td>\n",
       "      <td>M</td>\n",
       "      <td>3.96</td>\n",
       "    </tr>\n",
       "    <tr>\n",
       "      <td>305</td>\n",
       "      <td>Batman: Arkham Knight</td>\n",
       "      <td>PS4</td>\n",
       "      <td>2015</td>\n",
       "      <td>Action</td>\n",
       "      <td>1.53</td>\n",
       "      <td>1.69</td>\n",
       "      <td>0.10</td>\n",
       "      <td>0.64</td>\n",
       "      <td>87.0</td>\n",
       "      <td>7.6</td>\n",
       "      <td>M</td>\n",
       "      <td>3.96</td>\n",
       "    </tr>\n",
       "  </tbody>\n",
       "</table>\n",
       "</div>"
      ],
      "text/plain": [
       "                                       name platform  year_of_release  \\\n",
       "31                Call of Duty: Black Ops 3      PS4             2015   \n",
       "42                       Grand Theft Auto V      PS4             2014   \n",
       "77                                  FIFA 16      PS4             2015   \n",
       "87             Star Wars Battlefront (2015)      PS4             2015   \n",
       "92           Call of Duty: Advanced Warfare      PS4             2014   \n",
       "94                                  FIFA 17      PS4             2016   \n",
       "105                               Fallout 4      PS4             2015   \n",
       "143                                 FIFA 15      PS4             2014   \n",
       "154                                 Destiny      PS4             2014   \n",
       "171              Uncharted 4: A Thief's End      PS4             2016   \n",
       "225                          The Last of Us      PS4             2014   \n",
       "231  Uncharted: The Nathan Drake Collection      PS4             2015   \n",
       "245          Call of Duty: Infinite Warfare      PS4             2016   \n",
       "261                               Minecraft      PS4             2014   \n",
       "289                           Battlefield 1      PS4             2016   \n",
       "295                              Watch Dogs      PS4             2014   \n",
       "298                               Far Cry 4      PS4             2014   \n",
       "303                The Witcher 3: Wild Hunt      PS4             2015   \n",
       "304                 Assassin's Creed: Unity      PS4             2014   \n",
       "305                   Batman: Arkham Knight      PS4             2015   \n",
       "\n",
       "            genre  na_sales  eu_sales  jp_sales  other_sales  critic_score  \\\n",
       "31        Shooter      6.03      5.86      0.36         2.38           NaN   \n",
       "42         Action      3.96      6.31      0.38         1.97          97.0   \n",
       "77         Sports      1.12      6.12      0.06         1.28          82.0   \n",
       "87        Shooter      2.99      3.49      0.22         1.28           NaN   \n",
       "92        Shooter      2.81      3.48      0.14         1.23          83.0   \n",
       "94         Sports      0.66      5.75      0.08         1.11          85.0   \n",
       "105  Role-Playing      2.53      3.27      0.24         1.13          87.0   \n",
       "143        Sports      0.80      4.33      0.05         0.90          82.0   \n",
       "154       Shooter      2.49      2.07      0.16         0.92          76.0   \n",
       "171       Shooter      1.85      2.50      0.19         0.85          93.0   \n",
       "225        Action      1.88      2.00      0.07         0.77           NaN   \n",
       "231        Action      2.07      1.71      0.08         0.76          86.0   \n",
       "245       Shooter      1.61      2.00      0.15         0.71          77.0   \n",
       "261          Misc      1.48      2.02      0.14         0.68           NaN   \n",
       "289       Shooter      1.10      2.15      0.21         0.61          88.0   \n",
       "295        Action      1.40      1.90      0.11         0.64          80.0   \n",
       "298       Shooter      1.13      2.18      0.10         0.63          85.0   \n",
       "303  Role-Playing      1.02      2.13      0.23         0.59          92.0   \n",
       "304        Action      1.19      2.07      0.08         0.62          70.0   \n",
       "305        Action      1.53      1.69      0.10         0.64          87.0   \n",
       "\n",
       "     user_score rating  global_sales  \n",
       "31          NaN    NaN         14.63  \n",
       "42          8.3      M         12.62  \n",
       "77          4.3      E          8.58  \n",
       "87          NaN    NaN          7.98  \n",
       "92          5.7      M          7.66  \n",
       "94          5.0      E          7.60  \n",
       "105         6.5      M          7.17  \n",
       "143         5.7      E          6.08  \n",
       "154         6.1      T          5.64  \n",
       "171         7.9      T          5.39  \n",
       "225         NaN    NaN          4.72  \n",
       "231         8.1      T          4.62  \n",
       "245         3.4      M          4.47  \n",
       "261         NaN    NaN          4.32  \n",
       "289         8.4      M          4.07  \n",
       "295         6.3      M          4.05  \n",
       "298         7.7      M          4.04  \n",
       "303         9.2      M          3.97  \n",
       "304         4.9      M          3.96  \n",
       "305         7.6      M          3.96  "
      ]
     },
     "metadata": {},
     "output_type": "display_data"
    }
   ],
   "source": [
    "df_ps4 = df_topical.query('platform in \"PS4\"') # оставляем данные только по PS4\n",
    "df_ps4.info()\n",
    "display(df_ps4.head(20))"
   ]
  },
  {
   "cell_type": "code",
   "execution_count": 14,
   "metadata": {},
   "outputs": [
    {
     "name": "stdout",
     "output_type": "stream",
     "text": [
      "-0.031957110204556424\n"
     ]
    },
    {
     "data": {
      "image/png": "[encoded data removed]",
      "text/plain": [
       "<Figure size 720x360 with 1 Axes>"
      ]
     },
     "metadata": {
      "needs_background": "light"
     },
     "output_type": "display_data"
    },
    {
     "data": {
      "image/png": "[encoded data removed]",
      "text/plain": [
       "<Figure size 432x288 with 1 Axes>"
      ]
     },
     "metadata": {
      "needs_background": "light"
     },
     "output_type": "display_data"
    }
   ],
   "source": [
    "df_ps4.pivot_table(index = 'user_score', values = 'global_sales').plot(kind = 'bar', title = 'Зависимость продаж от отзывов пользователей', figsize = (10,5))\n",
    "# строим график зависимости продаж от отзывов пользователей\n",
    "\n",
    "df_ps4.plot(x='user_score', y='global_sales', kind='scatter',title = 'Зависимость продаж от отзывов пользователей', grid=True)\n",
    "\n",
    "print(df_ps4['user_score'].corr(df_ps4['global_sales'])) # также проверяем кореляцию"
   ]
  },
  {
   "cell_type": "code",
   "execution_count": 15,
   "metadata": {},
   "outputs": [
    {
     "name": "stdout",
     "output_type": "stream",
     "text": [
      "0.40656790206178095\n"
     ]
    },
    {
     "data": {
      "image/png": "[encoded data removed]",
      "text/plain": [
       "<Figure size 720x360 with 1 Axes>"
      ]
     },
     "metadata": {
      "needs_background": "light"
     },
     "output_type": "display_data"
    },
    {
     "data": {
      "image/png": "[encoded data removed]",
      "text/plain": [
       "<Figure size 432x288 with 1 Axes>"
      ]
     },
     "metadata": {
      "needs_background": "light"
     },
     "output_type": "display_data"
    }
   ],
   "source": [
    "df_ps4.pivot_table(index = 'critic_score', values = 'global_sales').plot(kind = 'bar', title = 'Зависимость продаж от отзывов критиков', figsize = (10,5))\n",
    "# строим график зависимости продаж от отзывов критиков\n",
    "\n",
    "df_ps4.plot(x='critic_score', y='global_sales', kind='scatter',title = 'Зависимость продаж от отзывов критиков', grid=True)\n",
    "\n",
    "print(df_ps4['critic_score'].corr(df_ps4['global_sales'])) # также проверяем кореляцию"
   ]
  },
  {
   "cell_type": "markdown",
   "metadata": {},
   "source": [
    "**Для этого шага, я выбрал платформу \"PlayStation 4\".**\n",
    "\n",
    "**Судя по графикам и кореляции, продажи игр на этой платформе не зависят от оценок пользователей.**\n",
    "\n",
    "**От оценок критиков есть существенная зависимость, кореляция больше чем 0,4. По графику также заметна зависимость, особенно высокие продажи при оценке ближе к 10.**"
   ]
  },
  {
   "cell_type": "code",
   "execution_count": 16,
   "metadata": {},
   "outputs": [],
   "source": [
    "#функция для создания сводной таблицы с продажами по какому-нибудь столбцу с процентами продаж\n",
    "\n",
    "#def df_column_sales(df_name,column,sales):\n",
    "#    df_temporary = df_name.pivot_table(index = [column], values = sales, aggfunc = 'sum')\n",
    "#    df_temporary['%'] = (df_temporary[sales] / df_temporary[sales].sum() * 100).round(1)\n",
    "#    return df_temporary\n",
    "\n",
    "#df_topical_platform_sales = df_column_sales(df_topical, 'name', 'global_sales')\n",
    "#display(df_topical_platform_sales.sort_values(by='global_sales', ascending=False))"
   ]
  },
  {
   "cell_type": "markdown",
   "metadata": {},
   "source": [
    "# Шаг 3.7"
   ]
  },
  {
   "cell_type": "code",
   "execution_count": 17,
   "metadata": {},
   "outputs": [
    {
     "name": "stdout",
     "output_type": "stream",
     "text": [
      "-0.0011216242093378549\n",
      "0.2812510848217569\n"
     ]
    },
    {
     "data": {
      "image/png": "[encoded data removed]",
      "text/plain": [
       "<Figure size 720x360 with 1 Axes>"
      ]
     },
     "metadata": {
      "needs_background": "light"
     },
     "output_type": "display_data"
    },
    {
     "data": {
      "image/png": "[encoded data removed]",
      "text/plain": [
       "<Figure size 432x288 with 1 Axes>"
      ]
     },
     "metadata": {
      "needs_background": "light"
     },
     "output_type": "display_data"
    },
    {
     "data": {
      "image/png": "[encoded data removed]",
      "text/plain": [
       "<Figure size 720x360 with 1 Axes>"
      ]
     },
     "metadata": {
      "needs_background": "light"
     },
     "output_type": "display_data"
    },
    {
     "data": {
      "image/png": "[encoded data removed]",
      "text/plain": [
       "<Figure size 432x288 with 1 Axes>"
      ]
     },
     "metadata": {
      "needs_background": "light"
     },
     "output_type": "display_data"
    }
   ],
   "source": [
    "df_not_ps4 = df_topical.query('platform != \"PS4\"') # оставляем данные без PS4\n",
    "#df_not_ps4.info()\n",
    "#display(df_not_ps4.head(20))\n",
    "\n",
    "df_not_ps4.pivot_table(index = 'user_score', values = 'global_sales').plot(kind = 'bar', title = 'Зависимость продаж от отзывов пользователей', figsize = (10,5))\n",
    "# строим график зависимости продаж от отзывов пользователей\n",
    "\n",
    "df_not_ps4.plot(x='user_score', y='global_sales', kind='scatter',title = 'Зависимость продаж от отзывов пользователей', grid=True)\n",
    "\n",
    "print(df_not_ps4['user_score'].corr(df_not_ps4['global_sales'])) # также проверяем кореляцию\n",
    "\n",
    "\n",
    "df_not_ps4.pivot_table(index = 'critic_score', values = 'global_sales').plot(kind = 'bar', title = 'Зависимость продаж от отзывов критиков', figsize = (10,5))\n",
    "# строим график зависимости продаж от отзывов критиков\n",
    "\n",
    "df_not_ps4.plot(x='critic_score', y='global_sales', kind='scatter',title = 'Зависимость продаж от отзывов критиков', grid=True)\n",
    "\n",
    "print(df_not_ps4['critic_score'].corr(df_not_ps4['global_sales'])) # также проверяем кореляцию"
   ]
  },
  {
   "cell_type": "markdown",
   "metadata": {},
   "source": [
    "**Судя по графикам и кореляции, продажи игр на всех вместе взятых платформах не зависят от оценок пользователей.**\n",
    "\n",
    "**От оценок критиков есть зависимость, кореляция больше чем 0,28. По графику также заметна зависимость, особенно высокие продажи при оценке ближе к 10.**\n",
    "\n",
    "**Отсюда сделаем вывод, что продажи что на отдельно взятой платформе, что на всех вместе взятых, не зависят от оценок пользователей. С оценками критиков ситуация другая, небольшая зависимость проявляется, и наиболее заметна при оценке близкой к 10.**"
   ]
  },
  {
   "cell_type": "markdown",
   "metadata": {},
   "source": [
    "# Шаг 3.8"
   ]
  },
  {
   "cell_type": "code",
   "execution_count": 18,
   "metadata": {},
   "outputs": [
    {
     "data": {
      "text/html": [
       "<div>\n",
       "<style scoped>\n",
       "    .dataframe tbody tr th:only-of-type {\n",
       "        vertical-align: middle;\n",
       "    }\n",
       "\n",
       "    .dataframe tbody tr th {\n",
       "        vertical-align: top;\n",
       "    }\n",
       "\n",
       "    .dataframe thead th {\n",
       "        text-align: right;\n",
       "    }\n",
       "</style>\n",
       "<table border=\"1\" class=\"dataframe\">\n",
       "  <thead>\n",
       "    <tr style=\"text-align: right;\">\n",
       "      <th></th>\n",
       "      <th>count</th>\n",
       "      <th>%</th>\n",
       "    </tr>\n",
       "    <tr>\n",
       "      <th>genre</th>\n",
       "      <th></th>\n",
       "      <th></th>\n",
       "    </tr>\n",
       "  </thead>\n",
       "  <tbody>\n",
       "    <tr>\n",
       "      <td>Action</td>\n",
       "      <td>766</td>\n",
       "      <td>34.3</td>\n",
       "    </tr>\n",
       "    <tr>\n",
       "      <td>Role-Playing</td>\n",
       "      <td>292</td>\n",
       "      <td>13.1</td>\n",
       "    </tr>\n",
       "    <tr>\n",
       "      <td>Adventure</td>\n",
       "      <td>245</td>\n",
       "      <td>11.0</td>\n",
       "    </tr>\n",
       "    <tr>\n",
       "      <td>Sports</td>\n",
       "      <td>214</td>\n",
       "      <td>9.6</td>\n",
       "    </tr>\n",
       "    <tr>\n",
       "      <td>Shooter</td>\n",
       "      <td>187</td>\n",
       "      <td>8.4</td>\n",
       "    </tr>\n",
       "    <tr>\n",
       "      <td>Misc</td>\n",
       "      <td>155</td>\n",
       "      <td>6.9</td>\n",
       "    </tr>\n",
       "    <tr>\n",
       "      <td>Racing</td>\n",
       "      <td>85</td>\n",
       "      <td>3.8</td>\n",
       "    </tr>\n",
       "    <tr>\n",
       "      <td>Fighting</td>\n",
       "      <td>80</td>\n",
       "      <td>3.6</td>\n",
       "    </tr>\n",
       "    <tr>\n",
       "      <td>Platform</td>\n",
       "      <td>74</td>\n",
       "      <td>3.3</td>\n",
       "    </tr>\n",
       "    <tr>\n",
       "      <td>Simulation</td>\n",
       "      <td>62</td>\n",
       "      <td>2.8</td>\n",
       "    </tr>\n",
       "    <tr>\n",
       "      <td>Strategy</td>\n",
       "      <td>56</td>\n",
       "      <td>2.5</td>\n",
       "    </tr>\n",
       "    <tr>\n",
       "      <td>Puzzle</td>\n",
       "      <td>17</td>\n",
       "      <td>0.8</td>\n",
       "    </tr>\n",
       "  </tbody>\n",
       "</table>\n",
       "</div>"
      ],
      "text/plain": [
       "              count     %\n",
       "genre                    \n",
       "Action          766  34.3\n",
       "Role-Playing    292  13.1\n",
       "Adventure       245  11.0\n",
       "Sports          214   9.6\n",
       "Shooter         187   8.4\n",
       "Misc            155   6.9\n",
       "Racing           85   3.8\n",
       "Fighting         80   3.6\n",
       "Platform         74   3.3\n",
       "Simulation       62   2.8\n",
       "Strategy         56   2.5\n",
       "Puzzle           17   0.8"
      ]
     },
     "metadata": {},
     "output_type": "display_data"
    },
    {
     "data": {
      "text/html": [
       "<div>\n",
       "<style scoped>\n",
       "    .dataframe tbody tr th:only-of-type {\n",
       "        vertical-align: middle;\n",
       "    }\n",
       "\n",
       "    .dataframe tbody tr th {\n",
       "        vertical-align: top;\n",
       "    }\n",
       "\n",
       "    .dataframe thead th {\n",
       "        text-align: right;\n",
       "    }\n",
       "</style>\n",
       "<table border=\"1\" class=\"dataframe\">\n",
       "  <thead>\n",
       "    <tr style=\"text-align: right;\">\n",
       "      <th></th>\n",
       "      <th>global_sales</th>\n",
       "      <th>%</th>\n",
       "    </tr>\n",
       "    <tr>\n",
       "      <th>genre</th>\n",
       "      <th></th>\n",
       "      <th></th>\n",
       "    </tr>\n",
       "  </thead>\n",
       "  <tbody>\n",
       "    <tr>\n",
       "      <td>Action</td>\n",
       "      <td>321.87</td>\n",
       "      <td>29.5</td>\n",
       "    </tr>\n",
       "    <tr>\n",
       "      <td>Shooter</td>\n",
       "      <td>232.98</td>\n",
       "      <td>21.4</td>\n",
       "    </tr>\n",
       "    <tr>\n",
       "      <td>Sports</td>\n",
       "      <td>150.65</td>\n",
       "      <td>13.8</td>\n",
       "    </tr>\n",
       "    <tr>\n",
       "      <td>Role-Playing</td>\n",
       "      <td>145.89</td>\n",
       "      <td>13.4</td>\n",
       "    </tr>\n",
       "    <tr>\n",
       "      <td>Misc</td>\n",
       "      <td>62.82</td>\n",
       "      <td>5.8</td>\n",
       "    </tr>\n",
       "    <tr>\n",
       "      <td>Platform</td>\n",
       "      <td>42.63</td>\n",
       "      <td>3.9</td>\n",
       "    </tr>\n",
       "    <tr>\n",
       "      <td>Racing</td>\n",
       "      <td>39.89</td>\n",
       "      <td>3.7</td>\n",
       "    </tr>\n",
       "    <tr>\n",
       "      <td>Fighting</td>\n",
       "      <td>35.31</td>\n",
       "      <td>3.2</td>\n",
       "    </tr>\n",
       "    <tr>\n",
       "      <td>Adventure</td>\n",
       "      <td>23.64</td>\n",
       "      <td>2.2</td>\n",
       "    </tr>\n",
       "    <tr>\n",
       "      <td>Simulation</td>\n",
       "      <td>21.76</td>\n",
       "      <td>2.0</td>\n",
       "    </tr>\n",
       "    <tr>\n",
       "      <td>Strategy</td>\n",
       "      <td>10.08</td>\n",
       "      <td>0.9</td>\n",
       "    </tr>\n",
       "    <tr>\n",
       "      <td>Puzzle</td>\n",
       "      <td>3.17</td>\n",
       "      <td>0.3</td>\n",
       "    </tr>\n",
       "  </tbody>\n",
       "</table>\n",
       "</div>"
      ],
      "text/plain": [
       "              global_sales     %\n",
       "genre                           \n",
       "Action              321.87  29.5\n",
       "Shooter             232.98  21.4\n",
       "Sports              150.65  13.8\n",
       "Role-Playing        145.89  13.4\n",
       "Misc                 62.82   5.8\n",
       "Platform             42.63   3.9\n",
       "Racing               39.89   3.7\n",
       "Fighting             35.31   3.2\n",
       "Adventure            23.64   2.2\n",
       "Simulation           21.76   2.0\n",
       "Strategy             10.08   0.9\n",
       "Puzzle                3.17   0.3"
      ]
     },
     "metadata": {},
     "output_type": "display_data"
    }
   ],
   "source": [
    "#print(df_topical['genre'].unique())\n",
    "\n",
    "#создаем сводную таблицу для определения количества выпущенных игр по годам\n",
    "df_genre_count = df_topical.pivot_table(index = ['genre'], values = 'name', aggfunc = 'count') \n",
    "df_genre_count = df_genre_count.rename(columns = {'name':'count'}) \n",
    "\n",
    "#добавляем столбец с процентами от общего количества\n",
    "df_genre_count['%'] = (df_genre_count['count'] / df_genre_count['count'].sum() * 100).round(1)\n",
    "display(df_genre_count.sort_values(by='count', ascending=False))\n",
    "\n",
    "\n",
    "#создаем сводную таблицу для определения количества выпущенных игр по жанрам\n",
    "df_genre_sum = df_topical.pivot_table(index = ['genre'], values = 'global_sales', aggfunc = 'sum')\n",
    "\n",
    "#добавляем столбец с процентами от общей суммы продаж\n",
    "df_genre_sum['%'] = (df_genre_sum['global_sales'] / df_genre_sum['global_sales'].sum() * 100).round(1)\n",
    "display(df_genre_sum.sort_values(by='global_sales', ascending=False))\n",
    "\n"
   ]
  },
  {
   "cell_type": "markdown",
   "metadata": {},
   "source": [
    "**Жанрами, в которых выпускается больше всего игр являются : \"Action\",\"Role-Playing\",\"Adventure\",\"Sports\",\"Shooter\" и \"Misc\". На долю выпуска игр этих жанров приходится примерно 83,3%. Явный лидер : \"Action\" на долю выпуска игр этих жанров приходится 34,3%.**\n",
    "\n",
    "**Самыми популярными жанрами  являются : \"Action\",\"Shooter\",\"Sports\" и \"Role-Playing\". На долю продаж игр этих жанров приходится примерно 78,1%. Явные лидеры : \"Action\" и \"Shooter\", на долю продаж игр этих жанров приходится 29,5% и 21,4% соответственно.**\n",
    "\n",
    "**Аутсайдерами по продажам являются жанры : \"Puzzle\" и \"Strategy\", на долю продаж игр этих жанров приходится 0,3% и 0,9% соответственно.**"
   ]
  },
  {
   "cell_type": "markdown",
   "metadata": {},
   "source": [
    "# Шаг 4. Составление портрета пользователя каждого региона"
   ]
  },
  {
   "cell_type": "markdown",
   "metadata": {},
   "source": [
    "# Шаг 4.1"
   ]
  },
  {
   "cell_type": "code",
   "execution_count": 19,
   "metadata": {},
   "outputs": [
    {
     "data": {
      "text/html": [
       "<div>\n",
       "<style scoped>\n",
       "    .dataframe tbody tr th:only-of-type {\n",
       "        vertical-align: middle;\n",
       "    }\n",
       "\n",
       "    .dataframe tbody tr th {\n",
       "        vertical-align: top;\n",
       "    }\n",
       "\n",
       "    .dataframe thead th {\n",
       "        text-align: right;\n",
       "    }\n",
       "</style>\n",
       "<table border=\"1\" class=\"dataframe\">\n",
       "  <thead>\n",
       "    <tr style=\"text-align: right;\">\n",
       "      <th></th>\n",
       "      <th>na_sales</th>\n",
       "      <th>%</th>\n",
       "    </tr>\n",
       "    <tr>\n",
       "      <th>platform</th>\n",
       "      <th></th>\n",
       "      <th></th>\n",
       "    </tr>\n",
       "  </thead>\n",
       "  <tbody>\n",
       "    <tr>\n",
       "      <td>PS4</td>\n",
       "      <td>108.74</td>\n",
       "      <td>24.8</td>\n",
       "    </tr>\n",
       "    <tr>\n",
       "      <td>XOne</td>\n",
       "      <td>93.12</td>\n",
       "      <td>21.3</td>\n",
       "    </tr>\n",
       "    <tr>\n",
       "      <td>X360</td>\n",
       "      <td>81.66</td>\n",
       "      <td>18.7</td>\n",
       "    </tr>\n",
       "    <tr>\n",
       "      <td>PS3</td>\n",
       "      <td>63.50</td>\n",
       "      <td>14.5</td>\n",
       "    </tr>\n",
       "    <tr>\n",
       "      <td>3DS</td>\n",
       "      <td>38.20</td>\n",
       "      <td>8.7</td>\n",
       "    </tr>\n",
       "  </tbody>\n",
       "</table>\n",
       "</div>"
      ],
      "text/plain": [
       "          na_sales     %\n",
       "platform                \n",
       "PS4         108.74  24.8\n",
       "XOne         93.12  21.3\n",
       "X360         81.66  18.7\n",
       "PS3          63.50  14.5\n",
       "3DS          38.20   8.7"
      ]
     },
     "metadata": {},
     "output_type": "display_data"
    },
    {
     "data": {
      "text/html": [
       "<div>\n",
       "<style scoped>\n",
       "    .dataframe tbody tr th:only-of-type {\n",
       "        vertical-align: middle;\n",
       "    }\n",
       "\n",
       "    .dataframe tbody tr th {\n",
       "        vertical-align: top;\n",
       "    }\n",
       "\n",
       "    .dataframe thead th {\n",
       "        text-align: right;\n",
       "    }\n",
       "</style>\n",
       "<table border=\"1\" class=\"dataframe\">\n",
       "  <thead>\n",
       "    <tr style=\"text-align: right;\">\n",
       "      <th></th>\n",
       "      <th>na_sales</th>\n",
       "      <th>%</th>\n",
       "    </tr>\n",
       "    <tr>\n",
       "      <th>genre</th>\n",
       "      <th></th>\n",
       "      <th></th>\n",
       "    </tr>\n",
       "  </thead>\n",
       "  <tbody>\n",
       "    <tr>\n",
       "      <td>Action</td>\n",
       "      <td>126.05</td>\n",
       "      <td>28.8</td>\n",
       "    </tr>\n",
       "    <tr>\n",
       "      <td>Shooter</td>\n",
       "      <td>109.74</td>\n",
       "      <td>25.1</td>\n",
       "    </tr>\n",
       "    <tr>\n",
       "      <td>Sports</td>\n",
       "      <td>65.27</td>\n",
       "      <td>14.9</td>\n",
       "    </tr>\n",
       "    <tr>\n",
       "      <td>Role-Playing</td>\n",
       "      <td>46.40</td>\n",
       "      <td>10.6</td>\n",
       "    </tr>\n",
       "    <tr>\n",
       "      <td>Misc</td>\n",
       "      <td>27.49</td>\n",
       "      <td>6.3</td>\n",
       "    </tr>\n",
       "  </tbody>\n",
       "</table>\n",
       "</div>"
      ],
      "text/plain": [
       "              na_sales     %\n",
       "genre                       \n",
       "Action          126.05  28.8\n",
       "Shooter         109.74  25.1\n",
       "Sports           65.27  14.9\n",
       "Role-Playing     46.40  10.6\n",
       "Misc             27.49   6.3"
      ]
     },
     "metadata": {},
     "output_type": "display_data"
    },
    {
     "data": {
      "image/png": "[encoded data removed]",
      "text/plain": [
       "<Figure size 720x360 with 1 Axes>"
      ]
     },
     "metadata": {
      "needs_background": "light"
     },
     "output_type": "display_data"
    }
   ],
   "source": [
    "#создаем сводную таблицу суммарных продаж в Северной Америке по платформам\n",
    "df_platform_na_sales = df_topical.pivot_table(index = ['platform'], values = 'na_sales', aggfunc = 'sum')\n",
    "\n",
    "#добавляем столбец с процентами от общей суммы продаж\n",
    "df_platform_na_sales['%'] = (df_platform_na_sales['na_sales'] / df_platform_na_sales['na_sales'].sum() * 100).round(1)\n",
    "display((df_platform_na_sales.sort_values(by='na_sales', ascending=False)).head())\n",
    "\n",
    "\n",
    "\n",
    "#создаем сводную таблицу суммарных продаж в Северной Америке по жанрам\n",
    "df_genre_na_sales = df_topical.pivot_table(index = ['genre'], values = 'na_sales', aggfunc = 'sum')\n",
    "\n",
    "#добавляем столбец с процентами от общей суммы продаж\n",
    "df_genre_na_sales['%'] = (df_genre_na_sales['na_sales'] / df_genre_na_sales['na_sales'].sum() * 100).round(1)\n",
    "display((df_genre_na_sales.sort_values(by='na_sales', ascending=False)).head())\n",
    "\n",
    "\n",
    "\n",
    "# строим график зависимости продаж от рейтинга ESRB\n",
    "df_topical.pivot_table(index = 'rating', values = 'na_sales').plot(kind = 'bar', title = 'Зависимость продаж от рейтинга ESRB', figsize = (10,5))\n",
    "plt.show()\n"
   ]
  },
  {
   "cell_type": "markdown",
   "metadata": {},
   "source": [
    "**Как показал анализ, самыми популярными платформами в Северной Америке за последние 4 года являются :\"PlayStation 4\", \"Xbox One\", \"Xbox360\",\"PlayStation 3\" и \"Nintendo 3DS\". На долю продаж игр этих платформ приходится примерно 88%. Явные лидеры : \"PlayStation 4\" и \"Xbox One\", на долю продаж игр этих платформ приходится 24,8% и 21,3% соответственно.**\n",
    "\n",
    "**Самыми популярными жанрами в Северной Америке являются : \"Action\",\"Shooter\",\"Sports\",\"Role-Playing\" и \"Misc\". На долю продаж игр этих жанров приходится примерно 85,7%. Явные лидеры : \"Action\" и \"Shooter\", на долю продаж игр этих жанров приходится 28,8% и 25,1% соответственно.**\n",
    "\n",
    "**Судя по графику, рейтинг ESRB достаточно сильно влияет на продажи компьютерных игр. В Северной Америке наибольшей популярностью пользуются игры с рейтингом \"М\"(17+), следующей по популярности является категория игр с рейтингом \"Е\"(для всех), но прилично \"отстает\" от лидера.** "
   ]
  },
  {
   "cell_type": "markdown",
   "metadata": {},
   "source": [
    "# Шаг 4.2"
   ]
  },
  {
   "cell_type": "code",
   "execution_count": 20,
   "metadata": {},
   "outputs": [
    {
     "data": {
      "text/html": [
       "<div>\n",
       "<style scoped>\n",
       "    .dataframe tbody tr th:only-of-type {\n",
       "        vertical-align: middle;\n",
       "    }\n",
       "\n",
       "    .dataframe tbody tr th {\n",
       "        vertical-align: top;\n",
       "    }\n",
       "\n",
       "    .dataframe thead th {\n",
       "        text-align: right;\n",
       "    }\n",
       "</style>\n",
       "<table border=\"1\" class=\"dataframe\">\n",
       "  <thead>\n",
       "    <tr style=\"text-align: right;\">\n",
       "      <th></th>\n",
       "      <th>eu_sales</th>\n",
       "      <th>%</th>\n",
       "    </tr>\n",
       "    <tr>\n",
       "      <th>platform</th>\n",
       "      <th></th>\n",
       "      <th></th>\n",
       "    </tr>\n",
       "  </thead>\n",
       "  <tbody>\n",
       "    <tr>\n",
       "      <td>PS4</td>\n",
       "      <td>141.09</td>\n",
       "      <td>36.0</td>\n",
       "    </tr>\n",
       "    <tr>\n",
       "      <td>PS3</td>\n",
       "      <td>67.81</td>\n",
       "      <td>17.3</td>\n",
       "    </tr>\n",
       "    <tr>\n",
       "      <td>XOne</td>\n",
       "      <td>51.59</td>\n",
       "      <td>13.2</td>\n",
       "    </tr>\n",
       "    <tr>\n",
       "      <td>X360</td>\n",
       "      <td>42.52</td>\n",
       "      <td>10.8</td>\n",
       "    </tr>\n",
       "    <tr>\n",
       "      <td>3DS</td>\n",
       "      <td>30.96</td>\n",
       "      <td>7.9</td>\n",
       "    </tr>\n",
       "  </tbody>\n",
       "</table>\n",
       "</div>"
      ],
      "text/plain": [
       "          eu_sales     %\n",
       "platform                \n",
       "PS4         141.09  36.0\n",
       "PS3          67.81  17.3\n",
       "XOne         51.59  13.2\n",
       "X360         42.52  10.8\n",
       "3DS          30.96   7.9"
      ]
     },
     "metadata": {},
     "output_type": "display_data"
    },
    {
     "data": {
      "text/html": [
       "<div>\n",
       "<style scoped>\n",
       "    .dataframe tbody tr th:only-of-type {\n",
       "        vertical-align: middle;\n",
       "    }\n",
       "\n",
       "    .dataframe tbody tr th {\n",
       "        vertical-align: top;\n",
       "    }\n",
       "\n",
       "    .dataframe thead th {\n",
       "        text-align: right;\n",
       "    }\n",
       "</style>\n",
       "<table border=\"1\" class=\"dataframe\">\n",
       "  <thead>\n",
       "    <tr style=\"text-align: right;\">\n",
       "      <th></th>\n",
       "      <th>eu_sales</th>\n",
       "      <th>%</th>\n",
       "    </tr>\n",
       "    <tr>\n",
       "      <th>genre</th>\n",
       "      <th></th>\n",
       "      <th></th>\n",
       "    </tr>\n",
       "  </thead>\n",
       "  <tbody>\n",
       "    <tr>\n",
       "      <td>Action</td>\n",
       "      <td>118.13</td>\n",
       "      <td>30.1</td>\n",
       "    </tr>\n",
       "    <tr>\n",
       "      <td>Shooter</td>\n",
       "      <td>87.86</td>\n",
       "      <td>22.4</td>\n",
       "    </tr>\n",
       "    <tr>\n",
       "      <td>Sports</td>\n",
       "      <td>60.52</td>\n",
       "      <td>15.4</td>\n",
       "    </tr>\n",
       "    <tr>\n",
       "      <td>Role-Playing</td>\n",
       "      <td>36.97</td>\n",
       "      <td>9.4</td>\n",
       "    </tr>\n",
       "    <tr>\n",
       "      <td>Racing</td>\n",
       "      <td>20.19</td>\n",
       "      <td>5.1</td>\n",
       "    </tr>\n",
       "  </tbody>\n",
       "</table>\n",
       "</div>"
      ],
      "text/plain": [
       "              eu_sales     %\n",
       "genre                       \n",
       "Action          118.13  30.1\n",
       "Shooter          87.86  22.4\n",
       "Sports           60.52  15.4\n",
       "Role-Playing     36.97   9.4\n",
       "Racing           20.19   5.1"
      ]
     },
     "metadata": {},
     "output_type": "display_data"
    },
    {
     "data": {
      "image/png": "[encoded data removed]",
      "text/plain": [
       "<Figure size 720x360 with 1 Axes>"
      ]
     },
     "metadata": {
      "needs_background": "light"
     },
     "output_type": "display_data"
    }
   ],
   "source": [
    "#создаем сводную таблицу суммарных продаж в Европе по платформам\n",
    "df_platform_eu_sales = df_topical.pivot_table(index = ['platform'], values = 'eu_sales', aggfunc = 'sum')\n",
    "\n",
    "#добавляем столбец с процентами от общей суммы продаж\n",
    "df_platform_eu_sales['%'] = (df_platform_eu_sales['eu_sales'] / df_platform_eu_sales['eu_sales'].sum() * 100).round(1)\n",
    "display((df_platform_eu_sales.sort_values(by='eu_sales', ascending=False)).head())\n",
    "\n",
    "\n",
    "#создаем сводную таблицу суммарных продаж в Европе по жанрам\n",
    "df_genre_eu_sales = df_topical.pivot_table(index = ['genre'], values = 'eu_sales', aggfunc = 'sum')\n",
    "\n",
    "#добавляем столбец с процентами от общей суммы продаж\n",
    "df_genre_eu_sales['%'] = (df_genre_eu_sales['eu_sales'] / df_genre_eu_sales['eu_sales'].sum() * 100).round(1)\n",
    "display((df_genre_eu_sales.sort_values(by='eu_sales', ascending=False)).head())\n",
    "\n",
    "\n",
    "# строим график зависимости продаж от от рейтинга ESRB\n",
    "df_topical.pivot_table(index = 'rating', values = 'eu_sales').plot(kind = 'bar', title = 'Зависимость продаж от рейтинга ESRB', figsize = (10,5))\n",
    "plt.show()\n"
   ]
  },
  {
   "cell_type": "markdown",
   "metadata": {},
   "source": [
    "**Самыми популярными платформами в Европе за последние 4 года являются :\"PlayStation 4\",\"PlayStation 3\", \"Xbox One\", \"Xbox360\" и \"Nintendo 3DS\". На долю продаж игр этих платформ приходится примерно 85,2%. Явный лидер : \"PlayStation 4\" , на долю продаж игр этой платформы приходится 36%.**\n",
    "\n",
    "**Самыми популярными жанрами в Европе являются : \"Action\",\"Shooter\",\"Sports\",\"Role-Playing\" и \"Racing\". На долю продаж игр этих жанров приходится примерно 82,4%. Явные лидеры : \"Action\" и \"Shooter\", на долю продаж игр этих жанров приходится 30,1% и 22,4% соответственно.**\n",
    "\n",
    "**Судя по графику, в Европе наибольшей популярностью пользуются игры с рейтингом \"М\"(17+), следующей по популярности является категория игр с рейтингом \"Е\"(для всех).** "
   ]
  },
  {
   "cell_type": "markdown",
   "metadata": {},
   "source": [
    "# Шаг 4.3"
   ]
  },
  {
   "cell_type": "code",
   "execution_count": 21,
   "metadata": {},
   "outputs": [
    {
     "data": {
      "text/html": [
       "<div>\n",
       "<style scoped>\n",
       "    .dataframe tbody tr th:only-of-type {\n",
       "        vertical-align: middle;\n",
       "    }\n",
       "\n",
       "    .dataframe tbody tr th {\n",
       "        vertical-align: top;\n",
       "    }\n",
       "\n",
       "    .dataframe thead th {\n",
       "        text-align: right;\n",
       "    }\n",
       "</style>\n",
       "<table border=\"1\" class=\"dataframe\">\n",
       "  <thead>\n",
       "    <tr style=\"text-align: right;\">\n",
       "      <th></th>\n",
       "      <th>jp_sales</th>\n",
       "      <th>%</th>\n",
       "    </tr>\n",
       "    <tr>\n",
       "      <th>platform</th>\n",
       "      <th></th>\n",
       "      <th></th>\n",
       "    </tr>\n",
       "  </thead>\n",
       "  <tbody>\n",
       "    <tr>\n",
       "      <td>3DS</td>\n",
       "      <td>67.81</td>\n",
       "      <td>48.2</td>\n",
       "    </tr>\n",
       "    <tr>\n",
       "      <td>PS3</td>\n",
       "      <td>23.35</td>\n",
       "      <td>16.6</td>\n",
       "    </tr>\n",
       "    <tr>\n",
       "      <td>PSV</td>\n",
       "      <td>18.59</td>\n",
       "      <td>13.2</td>\n",
       "    </tr>\n",
       "    <tr>\n",
       "      <td>PS4</td>\n",
       "      <td>15.96</td>\n",
       "      <td>11.3</td>\n",
       "    </tr>\n",
       "    <tr>\n",
       "      <td>WiiU</td>\n",
       "      <td>10.88</td>\n",
       "      <td>7.7</td>\n",
       "    </tr>\n",
       "  </tbody>\n",
       "</table>\n",
       "</div>"
      ],
      "text/plain": [
       "          jp_sales     %\n",
       "platform                \n",
       "3DS          67.81  48.2\n",
       "PS3          23.35  16.6\n",
       "PSV          18.59  13.2\n",
       "PS4          15.96  11.3\n",
       "WiiU         10.88   7.7"
      ]
     },
     "metadata": {},
     "output_type": "display_data"
    },
    {
     "data": {
      "text/html": [
       "<div>\n",
       "<style scoped>\n",
       "    .dataframe tbody tr th:only-of-type {\n",
       "        vertical-align: middle;\n",
       "    }\n",
       "\n",
       "    .dataframe tbody tr th {\n",
       "        vertical-align: top;\n",
       "    }\n",
       "\n",
       "    .dataframe thead th {\n",
       "        text-align: right;\n",
       "    }\n",
       "</style>\n",
       "<table border=\"1\" class=\"dataframe\">\n",
       "  <thead>\n",
       "    <tr style=\"text-align: right;\">\n",
       "      <th></th>\n",
       "      <th>jp_sales</th>\n",
       "      <th>%</th>\n",
       "    </tr>\n",
       "    <tr>\n",
       "      <th>genre</th>\n",
       "      <th></th>\n",
       "      <th></th>\n",
       "    </tr>\n",
       "  </thead>\n",
       "  <tbody>\n",
       "    <tr>\n",
       "      <td>Role-Playing</td>\n",
       "      <td>51.04</td>\n",
       "      <td>36.3</td>\n",
       "    </tr>\n",
       "    <tr>\n",
       "      <td>Action</td>\n",
       "      <td>40.49</td>\n",
       "      <td>28.8</td>\n",
       "    </tr>\n",
       "    <tr>\n",
       "      <td>Misc</td>\n",
       "      <td>9.20</td>\n",
       "      <td>6.5</td>\n",
       "    </tr>\n",
       "    <tr>\n",
       "      <td>Fighting</td>\n",
       "      <td>7.65</td>\n",
       "      <td>5.4</td>\n",
       "    </tr>\n",
       "    <tr>\n",
       "      <td>Shooter</td>\n",
       "      <td>6.61</td>\n",
       "      <td>4.7</td>\n",
       "    </tr>\n",
       "  </tbody>\n",
       "</table>\n",
       "</div>"
      ],
      "text/plain": [
       "              jp_sales     %\n",
       "genre                       \n",
       "Role-Playing     51.04  36.3\n",
       "Action           40.49  28.8\n",
       "Misc              9.20   6.5\n",
       "Fighting          7.65   5.4\n",
       "Shooter           6.61   4.7"
      ]
     },
     "metadata": {},
     "output_type": "display_data"
    },
    {
     "data": {
      "image/png": "[encoded data removed]",
      "text/plain": [
       "<Figure size 720x360 with 1 Axes>"
      ]
     },
     "metadata": {
      "needs_background": "light"
     },
     "output_type": "display_data"
    }
   ],
   "source": [
    "#создаем сводную таблицу суммарных продаж в Японии по платформам\n",
    "df_platform_jp_sales = df_topical.pivot_table(index = ['platform'], values = 'jp_sales', aggfunc = 'sum')\n",
    "\n",
    "#добавляем столбец с процентами от общей суммы продаж\n",
    "df_platform_jp_sales['%'] = (df_platform_jp_sales['jp_sales'] / df_platform_jp_sales['jp_sales'].sum() * 100).round(1)\n",
    "display((df_platform_jp_sales.sort_values(by='jp_sales', ascending=False)).head())\n",
    "\n",
    "\n",
    "#создаем сводную таблицу суммарных продаж в Японии по жанрам\n",
    "df_genre_jp_sales = df_topical.pivot_table(index = ['genre'], values = 'jp_sales', aggfunc = 'sum')\n",
    "\n",
    "#добавляем столбец с процентами от общей суммы продаж\n",
    "df_genre_jp_sales['%'] = (df_genre_jp_sales['jp_sales'] / df_genre_jp_sales['jp_sales'].sum() * 100).round(1)\n",
    "display((df_genre_jp_sales.sort_values(by='jp_sales', ascending=False)).head())\n",
    "\n",
    "\n",
    "# строим график зависимости продаж от от рейтинга ESRB\n",
    "df_topical.pivot_table(index = 'rating', values = 'jp_sales').plot(kind = 'bar', title = 'Зависимость продаж от рейтинга ESRB', figsize = (10,5))\n",
    "plt.show()\n",
    "# строим график зависимости продаж от \n"
   ]
  },
  {
   "cell_type": "markdown",
   "metadata": {},
   "source": [
    "**Самыми популярными платформами в Японии за последние 4 года являются : \"Nintendo 3DS\",\"PlayStation 3\",\"PSV\",\"PlayStation 4\"и \"WiiU\". На долю продаж игр этих платформ приходится примерно 97%. Явный лидер : \"Nintendo 3DS\" , на долю продаж игр этой платформы приходится 36,3%.**\n",
    "\n",
    "**Самыми популярными жанрами в Японии являются : \"Role-Playing\",\"Action\", \"Misc\", \"Fighting\", \"Shooter\". На долю продаж игр этих жанров приходится примерно 81,7%. Явные лидеры : \"Role-Playing\" и \"Action\", на долю продаж игр этих жанров приходится 36,3% и 28,8% соответственно.**\n",
    "\n",
    "**Судя по графику, в Японии наибольшей популярностью пользуются игры с рейтингом \"Т\"(Подросток), следующей по популярности является категория игр с рейтингом \"Е\"(для всех), ну и замыкает тройку категория игр с рейтингом \"М\"(17+).**"
   ]
  },
  {
   "cell_type": "markdown",
   "metadata": {},
   "source": [
    "# Шаг 5. Проверка гипотез"
   ]
  },
  {
   "cell_type": "markdown",
   "metadata": {},
   "source": [
    "# Шаг 5.1"
   ]
  },
  {
   "cell_type": "markdown",
   "metadata": {},
   "source": [
    "***По условиям, поставленым в проекте, нужно проверить одну из гипотез: \"средние рейтинги пользователей платформы \"Xbox One\" и \"PC\" различаются\". Следовательно так и формулируем гипотезу Ho. Гипотезу H1 формулируем так: \"средние рейтинги пользователей платформы \"Xbox One\" и \"PC\" не различаются\" .***"
   ]
  },
  {
   "cell_type": "code",
   "execution_count": 22,
   "metadata": {},
   "outputs": [
    {
     "name": "stdout",
     "output_type": "stream",
     "text": [
      "p-значение: 0.14759594013430463\n",
      "Не получилось отвергнуть нулевую гипотезу\n"
     ]
    }
   ],
   "source": [
    "df_xbox_one = df_topical.query('platform in \"XOne\"')     # оставляем данные только по платформе \"Xbox One\"\n",
    "df_xbox_one.dropna(subset = ['user_score'], inplace=True)# удаляем строки с пропусками оценок, т.к. выборка все равно останется\n",
    "                                                         # большой\n",
    "\n",
    "df_pc = df_topical.query('platform in \"PC\"')             # оставляем данные только по платформе \"Xbox One\"\n",
    "df_pc.dropna(subset = ['user_score'], inplace=True)      # удаляем строки с пропусками оценок, т.к. выборка все равно останется\n",
    "                                                         # большой\n",
    "    \n",
    "df_xbox_rating = pd.Series(df_xbox_one['user_score'].to_list())#создаем списки оценок пользователей по платформам\n",
    "df_pc_rating = pd.Series(df_pc['user_score'].to_list())\n",
    "\n",
    "alpha = 0.05#  критический уровень статистической значимости\n",
    "\n",
    "results = st.ttest_ind(df_xbox_rating, df_pc_rating, equal_var = False)\n",
    "\n",
    "print('p-значение:', results.pvalue)\n",
    "\n",
    "if results.pvalue < alpha:# сравниваем получившееся p-значение с заданным уровнем статистической значимости:\n",
    "    print(\"Отвергаем нулевую гипотезу\")\n",
    "else:\n",
    "    print(\"Не получилось отвергнуть нулевую гипотезу\")"
   ]
  },
  {
   "cell_type": "markdown",
   "metadata": {},
   "source": [
    "# Шаг 5.2"
   ]
  },
  {
   "cell_type": "markdown",
   "metadata": {},
   "source": [
    "***Нужно проверить гипотезу: \"средние рейтинги пользователей жанра \"Action\" и \"Sports\" различаются\". Следовательно так и формулируем гипотезу Ho. Гипотезу H1 формулируем так: \"средние рейтинги пользователей жанра \"Action\" и \"Sports\" не различаются\" .***"
   ]
  },
  {
   "cell_type": "code",
   "execution_count": 23,
   "metadata": {},
   "outputs": [
    {
     "name": "stdout",
     "output_type": "stream",
     "text": [
      "p-значение: 1.4460039700704315e-20\n",
      "Отвергаем нулевую гипотезу\n"
     ]
    }
   ],
   "source": [
    "df_action = df_topical.query('genre in \"Action\"')      # оставляем данные только по жанру \"Action\"\n",
    "df_action.dropna(subset = ['user_score'], inplace=True)# удаляем строки с пропусками оценок, т.к. выборка все равно останется\n",
    "                                                       # большой\n",
    "    \n",
    "df_sports = df_topical.query('genre in \"Sports\"')      # оставляем данные только по жанру \"Sports\"\n",
    "df_sports.dropna(subset = ['user_score'], inplace=True)# удаляем строки с пропусками оценок, т.к. выборка все равно останется\n",
    "                                                       # большой\n",
    "    \n",
    "df_action_rating = pd.Series(df_action['user_score'].to_list())#создаем списки оценок пользователей по жанрам\n",
    "df_sports_rating = pd.Series(df_sports['user_score'].to_list())\n",
    "\n",
    "alpha = 0.05#  критический уровень статистической значимости\n",
    "\n",
    "results = st.ttest_ind(df_action_rating, df_sports_rating, equal_var = False)\n",
    "\n",
    "print('p-значение:', results.pvalue)\n",
    "\n",
    "if results.pvalue < alpha:# сравниваем получившееся p-значение с заданным уровнем статистической значимости:\n",
    "    print(\"Отвергаем нулевую гипотезу\")\n",
    "else:\n",
    "    print(\"Не получилось отвергнуть нулевую гипотезу\")"
   ]
  },
  {
   "cell_type": "markdown",
   "metadata": {},
   "source": [
    "**Использовал специальный метод для проверки гипотез о равенстве среднего двух генеральных совокупностей по взятым из них выборкам: scipy.stats.ttest_ind (array1, array2,equal_var) .**"
   ]
  },
  {
   "cell_type": "markdown",
   "metadata": {},
   "source": [
    "# Шаг 6. Общий вывод"
   ]
  },
  {
   "cell_type": "markdown",
   "metadata": {},
   "source": [
    "**Согласно  исследованиям проведенным в соответствии с ТЗ можно подвести краткие итоги и сделать прогнозы :**\n",
    "\n",
    "**1. Не всегда топовые по продажам платформы являются перспективными, они могут быть уже \"отработаным материалом\" , например \"PlayStation 2\", \"PlayStation 3\",\"Xbox360\". Их время закончилось, т.к. срок \"жизни\" платформы примерно 10 лет. В то же время есть платформы, которые еще не вышли в топ по продажам, но и не выработали свой потенциал, например \"PlayStation 4\",\"Xbox One\", \"Nintendo DS\". Так же определенный объем продаж будет приносить \"вечный\" \"PC\".**\n",
    "\n",
    "**Поэтому на 2017 год упор надо делать на \"PlayStation 4\",\"Xbox One\", \"Nintendo DS\",\"вечный\" \"PC\", если не планируется какой-то новой платформы. Продажи на этих платформах тоже прошли свой пик и падают.**\n",
    "\n",
    "**2. Продажи что на отдельно взятой платформе, что на всех вместе взятых, не зависят от оценок пользователей. С оценками критиков ситуация другая, небольшая зависимость проявляется, и наиболее заметна при оценке близкой к 10.**\n",
    "\n",
    "**3. Самыми популярными жанрами в общемировом пространстве являются : \"Action\",\"Shooter\",\"Sports\" и \"Role-Playing\". На долю продаж игр этих жанров приходится примерно 78,1%. Явные лидеры : \"Action\" и \"Shooter\", на долю продаж игр этих жанров приходится 29,5% и 21,4% соответственно. Аутсайдерами по продажам являются жанры : \"Puzzle\" и \"Strategy\", на долю продаж игр этих жанров приходится 0,3% и 0,9% соответственно.**\n",
    "\n",
    "**4. Если смотреть на отдельные регионы :**\n",
    "\n",
    "**В Северной Америке наиболее перспективными являются платформы : \"PlayStation 4\", \"Xbox One\", \"Xbox360\",\"PlayStation 3\" и \"Nintendo 3DS\". По жанрам лидируют \"Action\",\"Shooter\",\"Sports\",\"Role-Playing\" и \"Misc\". Также нужно учесть рейтинг ESRB, здесь наиболее популярные игры с рейтингом \"М\"(17+) и \"Е\"(для всех). Т.е. \"самое прибыльное направление\" : \"PlayStation 4\" + \"Action\" + \"М\".**\n",
    "\n",
    "**Самыми перспективными платформами в Европе являются :\"PlayStation 4\",\"PlayStation 3\", \"Xbox One\", \"Xbox360\" и \"Nintendo 3DS\".По жанрам лидерами являются : \"Action\",\"Shooter\",\"Sports\",\"Role-Playing\" и \"Racing\". По рейтингу ESRB : \"М\"(17+) и \"Е\"(для всех). Т.е. \"самое прибыльное направление\" : \"PlayStation 4\" + \"Action\" + \"М\", как и в Северной Аменрике.**\n",
    "\n",
    "**В Японии ситуация другая, самыми популярными платформами являются : \"Nintendo 3DS\",\"PlayStation 3\",\"PSV\",\"PlayStation 4\"и \"WiiU\".Самыми популярными жанрами в Японии являются : \"Role-Playing\",\"Action\", \"Misc\", \"Fighting\", \"Shooter\". По рейтингу ESRB : \"Т\"(подросток) и \"Е\"(для всех). Т.е. \"самое прибыльное направление\" : \"Nintendo 3DS\" + \"Role-Playing\" +  \"Т\".**\n",
    "\n",
    "**5. При проверке гипотез выяснилось, средние рейтинги пользователей платформы \"Xbox One\" и \"PC\" различаются, а средние рейтинги пользователей жанра \"Action\" и \"Sports\" не различаются.**"
   ]
  },
  {
   "cell_type": "code",
   "execution_count": null,
   "metadata": {},
   "outputs": [],
   "source": []
  }
 ],
 "metadata": {
  "ExecuteTimeLog": [
   {
    "duration": 1034,
    "start_time": "2022-01-18T04:15:31.897Z"
   },
   {
    "duration": 62,
    "start_time": "2022-01-18T04:15:33.708Z"
   },
   {
    "duration": 52,
    "start_time": "2022-01-18T04:38:05.797Z"
   },
   {
    "duration": 12,
    "start_time": "2022-01-18T05:17:50.731Z"
   },
   {
    "duration": 28,
    "start_time": "2022-01-18T05:29:27.227Z"
   },
   {
    "duration": 3,
    "start_time": "2022-01-18T05:30:50.880Z"
   },
   {
    "duration": 52,
    "start_time": "2022-01-18T05:30:52.983Z"
   },
   {
    "duration": 24,
    "start_time": "2022-01-18T05:30:57.561Z"
   },
   {
    "duration": 4,
    "start_time": "2022-01-18T05:31:29.572Z"
   },
   {
    "duration": 56,
    "start_time": "2022-01-18T05:31:31.172Z"
   },
   {
    "duration": 27,
    "start_time": "2022-01-18T05:31:38.300Z"
   },
   {
    "duration": 28,
    "start_time": "2022-01-18T05:42:55.558Z"
   },
   {
    "duration": 29,
    "start_time": "2022-01-18T05:45:55.191Z"
   },
   {
    "duration": 34,
    "start_time": "2022-01-18T05:52:50.837Z"
   },
   {
    "duration": 4,
    "start_time": "2022-01-18T05:54:00.545Z"
   },
   {
    "duration": 55,
    "start_time": "2022-01-18T05:54:02.434Z"
   },
   {
    "duration": 28,
    "start_time": "2022-01-18T05:54:08.006Z"
   },
   {
    "duration": 37,
    "start_time": "2022-01-18T05:55:59.570Z"
   },
   {
    "duration": 3,
    "start_time": "2022-01-18T06:03:01.983Z"
   },
   {
    "duration": 57,
    "start_time": "2022-01-18T06:03:03.246Z"
   },
   {
    "duration": 43,
    "start_time": "2022-01-18T06:03:09.290Z"
   },
   {
    "duration": 4,
    "start_time": "2022-01-18T06:04:02.914Z"
   },
   {
    "duration": 52,
    "start_time": "2022-01-18T06:04:03.546Z"
   },
   {
    "duration": 35,
    "start_time": "2022-01-18T06:04:04.382Z"
   },
   {
    "duration": 3,
    "start_time": "2022-01-18T06:10:12.353Z"
   },
   {
    "duration": 50,
    "start_time": "2022-01-18T06:10:17.309Z"
   },
   {
    "duration": 31,
    "start_time": "2022-01-18T06:10:21.038Z"
   },
   {
    "duration": 32,
    "start_time": "2022-01-18T06:17:12.364Z"
   },
   {
    "duration": 3,
    "start_time": "2022-01-18T06:25:06.783Z"
   },
   {
    "duration": 52,
    "start_time": "2022-01-18T06:25:07.834Z"
   },
   {
    "duration": 39,
    "start_time": "2022-01-18T06:25:10.612Z"
   },
   {
    "duration": 32,
    "start_time": "2022-01-18T06:29:05.217Z"
   },
   {
    "duration": 34,
    "start_time": "2022-01-18T06:38:11.425Z"
   },
   {
    "duration": 8,
    "start_time": "2022-01-18T06:47:05.517Z"
   },
   {
    "duration": 8,
    "start_time": "2022-01-18T06:47:52.191Z"
   },
   {
    "duration": 9,
    "start_time": "2022-01-18T06:55:18.444Z"
   },
   {
    "duration": 306,
    "start_time": "2022-01-18T06:58:25.640Z"
   },
   {
    "duration": 8,
    "start_time": "2022-01-18T06:59:48.264Z"
   },
   {
    "duration": 201,
    "start_time": "2022-01-18T07:16:55.934Z"
   },
   {
    "duration": 4,
    "start_time": "2022-01-18T07:18:07.485Z"
   },
   {
    "duration": 62,
    "start_time": "2022-01-18T07:18:08.247Z"
   },
   {
    "duration": 37,
    "start_time": "2022-01-18T07:18:10.015Z"
   },
   {
    "duration": 217,
    "start_time": "2022-01-18T07:18:12.278Z"
   },
   {
    "duration": 764,
    "start_time": "2022-01-18T07:41:08.118Z"
   },
   {
    "duration": 796,
    "start_time": "2022-01-18T07:42:01.457Z"
   },
   {
    "duration": 13,
    "start_time": "2022-01-18T07:42:55.107Z"
   },
   {
    "duration": 15,
    "start_time": "2022-01-18T07:51:25.911Z"
   },
   {
    "duration": 3,
    "start_time": "2022-01-18T08:09:23.110Z"
   },
   {
    "duration": 54,
    "start_time": "2022-01-18T08:09:24.023Z"
   },
   {
    "duration": 36,
    "start_time": "2022-01-18T08:09:25.573Z"
   },
   {
    "duration": 12,
    "start_time": "2022-01-18T08:09:26.800Z"
   },
   {
    "duration": 5,
    "start_time": "2022-01-18T08:10:20.483Z"
   },
   {
    "duration": 17,
    "start_time": "2022-01-18T08:18:41.792Z"
   },
   {
    "duration": 203,
    "start_time": "2022-01-18T08:37:59.487Z"
   },
   {
    "duration": 204,
    "start_time": "2022-01-18T08:38:28.583Z"
   },
   {
    "duration": 247,
    "start_time": "2022-01-18T08:39:07.401Z"
   },
   {
    "duration": 265,
    "start_time": "2022-01-18T08:40:26.508Z"
   },
   {
    "duration": 343,
    "start_time": "2022-01-18T08:58:34.533Z"
   },
   {
    "duration": 294,
    "start_time": "2022-01-18T09:04:11.743Z"
   },
   {
    "duration": 279,
    "start_time": "2022-01-18T09:10:05.267Z"
   },
   {
    "duration": 356,
    "start_time": "2022-01-18T09:10:25.485Z"
   },
   {
    "duration": 327,
    "start_time": "2022-01-18T09:14:17.567Z"
   },
   {
    "duration": 365,
    "start_time": "2022-01-18T09:14:43.821Z"
   },
   {
    "duration": 395,
    "start_time": "2022-01-18T09:25:18.082Z"
   },
   {
    "duration": 799,
    "start_time": "2022-01-18T09:30:40.344Z"
   },
   {
    "duration": 803,
    "start_time": "2022-01-18T09:32:05.058Z"
   },
   {
    "duration": 1081,
    "start_time": "2022-01-18T09:42:48.714Z"
   },
   {
    "duration": 3,
    "start_time": "2022-01-18T09:44:52.259Z"
   },
   {
    "duration": 52,
    "start_time": "2022-01-18T09:44:52.997Z"
   },
   {
    "duration": 33,
    "start_time": "2022-01-18T09:44:54.098Z"
   },
   {
    "duration": 10,
    "start_time": "2022-01-18T09:44:55.561Z"
   },
   {
    "duration": 15,
    "start_time": "2022-01-18T09:44:56.827Z"
   },
   {
    "duration": 1100,
    "start_time": "2022-01-18T09:45:01.298Z"
   },
   {
    "duration": 1263,
    "start_time": "2022-01-18T09:45:57.023Z"
   },
   {
    "duration": 386,
    "start_time": "2022-01-18T09:47:39.605Z"
   },
   {
    "duration": 388,
    "start_time": "2022-01-18T09:47:43.638Z"
   },
   {
    "duration": 366,
    "start_time": "2022-01-18T09:47:50.888Z"
   },
   {
    "duration": 27,
    "start_time": "2022-01-18T10:16:35.209Z"
   },
   {
    "duration": 207,
    "start_time": "2022-01-18T10:24:57.755Z"
   },
   {
    "duration": 15,
    "start_time": "2022-01-18T10:25:29.679Z"
   },
   {
    "duration": 16,
    "start_time": "2022-01-18T10:26:02.976Z"
   },
   {
    "duration": 316,
    "start_time": "2022-01-18T10:30:27.387Z"
   },
   {
    "duration": 381,
    "start_time": "2022-01-18T10:31:23.341Z"
   },
   {
    "duration": 224,
    "start_time": "2022-01-18T10:56:32.680Z"
   },
   {
    "duration": 24,
    "start_time": "2022-01-18T11:11:38.985Z"
   },
   {
    "duration": 959,
    "start_time": "2022-01-18T11:22:19.582Z"
   },
   {
    "duration": 682,
    "start_time": "2022-01-18T11:22:47.275Z"
   },
   {
    "duration": 266,
    "start_time": "2022-01-18T11:24:52.691Z"
   },
   {
    "duration": 857,
    "start_time": "2022-01-18T11:26:43.793Z"
   },
   {
    "duration": 934,
    "start_time": "2022-01-18T11:28:17.499Z"
   },
   {
    "duration": 945,
    "start_time": "2022-01-18T11:32:22.822Z"
   },
   {
    "duration": 948,
    "start_time": "2022-01-18T11:35:23.524Z"
   },
   {
    "duration": 4,
    "start_time": "2022-01-18T11:55:11.988Z"
   },
   {
    "duration": 16,
    "start_time": "2022-01-18T11:59:18.906Z"
   },
   {
    "duration": 15,
    "start_time": "2022-01-18T11:59:45.365Z"
   },
   {
    "duration": 35,
    "start_time": "2022-01-18T12:04:44.228Z"
   },
   {
    "duration": 953,
    "start_time": "2022-01-18T12:19:38.850Z"
   },
   {
    "duration": 841,
    "start_time": "2022-01-18T12:21:46.818Z"
   },
   {
    "duration": 892,
    "start_time": "2022-01-18T12:30:49.758Z"
   },
   {
    "duration": 1009,
    "start_time": "2022-01-18T12:31:19.570Z"
   },
   {
    "duration": 928,
    "start_time": "2022-01-18T12:35:11.751Z"
   },
   {
    "duration": 1187,
    "start_time": "2022-01-18T12:35:42.090Z"
   },
   {
    "duration": 1114,
    "start_time": "2022-01-18T12:37:15.391Z"
   },
   {
    "duration": 962,
    "start_time": "2022-01-18T12:37:38.969Z"
   },
   {
    "duration": 1649,
    "start_time": "2022-01-18T12:38:30.637Z"
   },
   {
    "duration": 1301,
    "start_time": "2022-01-18T12:38:47.746Z"
   },
   {
    "duration": 674,
    "start_time": "2022-01-18T12:56:36.357Z"
   },
   {
    "duration": 639,
    "start_time": "2022-01-18T12:57:11.260Z"
   },
   {
    "duration": 830,
    "start_time": "2022-01-18T12:57:42.155Z"
   },
   {
    "duration": 25,
    "start_time": "2022-01-18T13:05:18.986Z"
   },
   {
    "duration": 25,
    "start_time": "2022-01-18T13:06:49.813Z"
   },
   {
    "duration": 14,
    "start_time": "2022-01-18T13:10:07.102Z"
   },
   {
    "duration": 25,
    "start_time": "2022-01-18T13:13:08.573Z"
   },
   {
    "duration": 400,
    "start_time": "2022-01-18T13:35:31.501Z"
   },
   {
    "duration": 179,
    "start_time": "2022-01-18T13:36:16.688Z"
   },
   {
    "duration": 210,
    "start_time": "2022-01-18T13:51:42.229Z"
   },
   {
    "duration": 211,
    "start_time": "2022-01-18T13:52:23.237Z"
   },
   {
    "duration": 215,
    "start_time": "2022-01-18T13:54:52.626Z"
   },
   {
    "duration": 412,
    "start_time": "2022-01-19T05:24:27.259Z"
   },
   {
    "duration": 965,
    "start_time": "2022-01-19T05:24:56.419Z"
   },
   {
    "duration": 61,
    "start_time": "2022-01-19T05:24:58.337Z"
   },
   {
    "duration": 40,
    "start_time": "2022-01-19T05:24:59.796Z"
   },
   {
    "duration": 12,
    "start_time": "2022-01-19T05:25:01.619Z"
   },
   {
    "duration": 19,
    "start_time": "2022-01-19T05:25:05.266Z"
   },
   {
    "duration": 420,
    "start_time": "2022-01-19T05:25:07.871Z"
   },
   {
    "duration": 421,
    "start_time": "2022-01-19T05:25:10.876Z"
   },
   {
    "duration": 399,
    "start_time": "2022-01-19T05:25:13.112Z"
   },
   {
    "duration": 25,
    "start_time": "2022-01-19T05:25:16.194Z"
   },
   {
    "duration": 15,
    "start_time": "2022-01-19T05:25:19.524Z"
   },
   {
    "duration": 406,
    "start_time": "2022-01-19T05:25:22.998Z"
   },
   {
    "duration": 753,
    "start_time": "2022-01-19T05:25:26.964Z"
   },
   {
    "duration": 23,
    "start_time": "2022-01-19T05:25:29.201Z"
   },
   {
    "duration": 1032,
    "start_time": "2022-01-19T05:25:32.833Z"
   },
   {
    "duration": 1129,
    "start_time": "2022-01-19T05:25:35.536Z"
   },
   {
    "duration": 24,
    "start_time": "2022-01-19T05:25:38.383Z"
   },
   {
    "duration": 211,
    "start_time": "2022-01-19T05:25:40.971Z"
   },
   {
    "duration": 215,
    "start_time": "2022-01-19T05:25:42.429Z"
   },
   {
    "duration": 212,
    "start_time": "2022-01-19T05:25:43.579Z"
   },
   {
    "duration": 13,
    "start_time": "2022-01-19T05:28:48.597Z"
   },
   {
    "duration": 17,
    "start_time": "2022-01-19T05:29:20.812Z"
   },
   {
    "duration": 209,
    "start_time": "2022-01-19T05:54:28.622Z"
   },
   {
    "duration": 209,
    "start_time": "2022-01-19T05:55:15.038Z"
   },
   {
    "duration": 223,
    "start_time": "2022-01-19T05:56:29.384Z"
   },
   {
    "duration": 219,
    "start_time": "2022-01-19T05:58:44.674Z"
   },
   {
    "duration": 224,
    "start_time": "2022-01-19T06:01:33.095Z"
   },
   {
    "duration": 279,
    "start_time": "2022-01-19T06:03:59.175Z"
   },
   {
    "duration": 990,
    "start_time": "2022-01-19T06:06:50.088Z"
   },
   {
    "duration": 64,
    "start_time": "2022-01-19T06:06:51.080Z"
   },
   {
    "duration": 50,
    "start_time": "2022-01-19T06:06:51.146Z"
   },
   {
    "duration": 17,
    "start_time": "2022-01-19T06:06:51.198Z"
   },
   {
    "duration": 29,
    "start_time": "2022-01-19T06:06:51.216Z"
   },
   {
    "duration": 461,
    "start_time": "2022-01-19T06:06:51.247Z"
   },
   {
    "duration": 415,
    "start_time": "2022-01-19T06:06:51.710Z"
   },
   {
    "duration": 418,
    "start_time": "2022-01-19T06:06:52.128Z"
   },
   {
    "duration": 24,
    "start_time": "2022-01-19T06:06:52.548Z"
   },
   {
    "duration": 36,
    "start_time": "2022-01-19T06:06:52.573Z"
   },
   {
    "duration": 428,
    "start_time": "2022-01-19T06:06:52.611Z"
   },
   {
    "duration": 775,
    "start_time": "2022-01-19T06:06:53.041Z"
   },
   {
    "duration": 22,
    "start_time": "2022-01-19T06:06:53.817Z"
   },
   {
    "duration": 1102,
    "start_time": "2022-01-19T06:06:53.841Z"
   },
   {
    "duration": 1137,
    "start_time": "2022-01-19T06:06:54.945Z"
   },
   {
    "duration": 29,
    "start_time": "2022-01-19T06:06:56.091Z"
   },
   {
    "duration": 227,
    "start_time": "2022-01-19T06:06:56.122Z"
   },
   {
    "duration": 226,
    "start_time": "2022-01-19T06:06:56.350Z"
   },
   {
    "duration": 220,
    "start_time": "2022-01-19T06:06:56.577Z"
   },
   {
    "duration": 943,
    "start_time": "2022-01-19T06:13:42.433Z"
   },
   {
    "duration": 64,
    "start_time": "2022-01-19T06:13:43.378Z"
   },
   {
    "duration": 56,
    "start_time": "2022-01-19T06:13:43.445Z"
   },
   {
    "duration": 18,
    "start_time": "2022-01-19T06:13:43.503Z"
   },
   {
    "duration": 16,
    "start_time": "2022-01-19T06:13:43.522Z"
   },
   {
    "duration": 439,
    "start_time": "2022-01-19T06:13:43.539Z"
   },
   {
    "duration": 419,
    "start_time": "2022-01-19T06:13:43.980Z"
   },
   {
    "duration": 413,
    "start_time": "2022-01-19T06:13:44.403Z"
   },
   {
    "duration": 24,
    "start_time": "2022-01-19T06:13:44.817Z"
   },
   {
    "duration": 14,
    "start_time": "2022-01-19T06:13:44.843Z"
   },
   {
    "duration": 449,
    "start_time": "2022-01-19T06:13:44.859Z"
   },
   {
    "duration": 788,
    "start_time": "2022-01-19T06:13:45.310Z"
   },
   {
    "duration": 25,
    "start_time": "2022-01-19T06:13:46.100Z"
   },
   {
    "duration": 1045,
    "start_time": "2022-01-19T06:13:46.127Z"
   },
   {
    "duration": 1152,
    "start_time": "2022-01-19T06:13:47.173Z"
   },
   {
    "duration": 26,
    "start_time": "2022-01-19T06:13:48.327Z"
   },
   {
    "duration": 239,
    "start_time": "2022-01-19T06:13:48.355Z"
   },
   {
    "duration": 237,
    "start_time": "2022-01-19T06:13:48.596Z"
   },
   {
    "duration": 231,
    "start_time": "2022-01-19T06:13:48.835Z"
   },
   {
    "duration": 3,
    "start_time": "2022-01-19T06:44:18.353Z"
   },
   {
    "duration": 51,
    "start_time": "2022-01-19T06:44:19.110Z"
   },
   {
    "duration": 35,
    "start_time": "2022-01-19T06:44:20.300Z"
   },
   {
    "duration": 15,
    "start_time": "2022-01-19T06:44:21.217Z"
   },
   {
    "duration": 17,
    "start_time": "2022-01-19T06:44:22.676Z"
   },
   {
    "duration": 389,
    "start_time": "2022-01-19T06:44:25.202Z"
   },
   {
    "duration": 391,
    "start_time": "2022-01-19T06:44:27.712Z"
   },
   {
    "duration": 368,
    "start_time": "2022-01-19T06:44:33.418Z"
   },
   {
    "duration": 23,
    "start_time": "2022-01-19T06:44:36.291Z"
   },
   {
    "duration": 15,
    "start_time": "2022-01-19T06:44:38.408Z"
   },
   {
    "duration": 388,
    "start_time": "2022-01-19T06:44:41.872Z"
   },
   {
    "duration": 812,
    "start_time": "2022-01-19T06:44:49.366Z"
   },
   {
    "duration": 24,
    "start_time": "2022-01-19T06:44:51.115Z"
   },
   {
    "duration": 1030,
    "start_time": "2022-01-19T06:44:53.026Z"
   },
   {
    "duration": 1010,
    "start_time": "2022-01-19T06:44:58.632Z"
   },
   {
    "duration": 26,
    "start_time": "2022-01-19T06:45:01.117Z"
   },
   {
    "duration": 210,
    "start_time": "2022-01-19T06:45:05.446Z"
   },
   {
    "duration": 218,
    "start_time": "2022-01-19T06:45:07.725Z"
   },
   {
    "duration": 209,
    "start_time": "2022-01-19T06:45:09.421Z"
   },
   {
    "duration": 11,
    "start_time": "2022-01-19T07:14:56.803Z"
   },
   {
    "duration": 16,
    "start_time": "2022-01-19T07:22:59.816Z"
   },
   {
    "duration": 15,
    "start_time": "2022-01-19T07:23:36.524Z"
   },
   {
    "duration": 18,
    "start_time": "2022-01-19T07:29:08.849Z"
   },
   {
    "duration": 23,
    "start_time": "2022-01-19T07:35:20.682Z"
   },
   {
    "duration": 832,
    "start_time": "2022-01-19T07:56:27.051Z"
   },
   {
    "duration": 745,
    "start_time": "2022-01-19T07:56:46.477Z"
   },
   {
    "duration": 46,
    "start_time": "2022-01-19T09:58:45.162Z"
   },
   {
    "duration": 787,
    "start_time": "2022-01-19T10:35:10.353Z"
   },
   {
    "duration": 17,
    "start_time": "2022-01-19T10:58:39.446Z"
   },
   {
    "duration": 2861,
    "start_time": "2022-01-19T12:59:57.240Z"
   },
   {
    "duration": 1100,
    "start_time": "2022-01-19T14:48:14.189Z"
   },
   {
    "duration": 59,
    "start_time": "2022-01-19T14:48:15.292Z"
   },
   {
    "duration": 46,
    "start_time": "2022-01-19T14:48:15.353Z"
   },
   {
    "duration": 16,
    "start_time": "2022-01-19T14:48:15.401Z"
   },
   {
    "duration": 17,
    "start_time": "2022-01-19T14:48:15.418Z"
   },
   {
    "duration": 449,
    "start_time": "2022-01-19T14:48:15.437Z"
   },
   {
    "duration": 419,
    "start_time": "2022-01-19T14:48:15.888Z"
   },
   {
    "duration": 411,
    "start_time": "2022-01-19T14:48:16.310Z"
   },
   {
    "duration": 25,
    "start_time": "2022-01-19T14:48:16.723Z"
   },
   {
    "duration": 16,
    "start_time": "2022-01-19T14:48:16.750Z"
   },
   {
    "duration": 443,
    "start_time": "2022-01-19T14:48:16.767Z"
   },
   {
    "duration": 766,
    "start_time": "2022-01-19T14:48:17.211Z"
   },
   {
    "duration": 33,
    "start_time": "2022-01-19T14:48:17.979Z"
   },
   {
    "duration": 1095,
    "start_time": "2022-01-19T14:48:18.014Z"
   },
   {
    "duration": 1187,
    "start_time": "2022-01-19T14:48:19.111Z"
   },
   {
    "duration": 2521,
    "start_time": "2022-01-19T14:48:20.300Z"
   },
   {
    "duration": 29,
    "start_time": "2022-01-19T14:48:22.823Z"
   },
   {
    "duration": 243,
    "start_time": "2022-01-19T14:48:22.854Z"
   },
   {
    "duration": 250,
    "start_time": "2022-01-19T14:48:23.099Z"
   },
   {
    "duration": 236,
    "start_time": "2022-01-19T14:48:23.351Z"
   },
   {
    "duration": 19,
    "start_time": "2022-01-19T14:48:23.589Z"
   },
   {
    "duration": 35,
    "start_time": "2022-01-19T14:48:23.610Z"
   },
   {
    "duration": 2212,
    "start_time": "2022-01-23T10:35:34.200Z"
   },
   {
    "duration": 107,
    "start_time": "2022-01-23T10:35:36.415Z"
   },
   {
    "duration": 174,
    "start_time": "2022-01-23T10:35:36.525Z"
   },
   {
    "duration": 16,
    "start_time": "2022-01-23T10:35:36.701Z"
   },
   {
    "duration": 83,
    "start_time": "2022-01-23T10:35:36.718Z"
   },
   {
    "duration": 1018,
    "start_time": "2022-01-23T10:35:36.803Z"
   },
   {
    "duration": 812,
    "start_time": "2022-01-23T10:35:37.823Z"
   },
   {
    "duration": 962,
    "start_time": "2022-01-23T10:35:38.638Z"
   },
   {
    "duration": 23,
    "start_time": "2022-01-23T10:35:39.602Z"
   },
   {
    "duration": 71,
    "start_time": "2022-01-23T10:35:39.627Z"
   },
   {
    "duration": 837,
    "start_time": "2022-01-23T10:35:39.700Z"
   },
   {
    "duration": 1477,
    "start_time": "2022-01-23T10:35:40.539Z"
   },
   {
    "duration": 81,
    "start_time": "2022-01-23T10:35:42.017Z"
   },
   {
    "duration": 2006,
    "start_time": "2022-01-23T10:35:42.100Z"
   },
   {
    "duration": 2289,
    "start_time": "2022-01-23T10:35:44.108Z"
   },
   {
    "duration": 5046,
    "start_time": "2022-01-23T10:35:46.399Z"
   },
   {
    "duration": 31,
    "start_time": "2022-01-23T10:35:51.498Z"
   },
   {
    "duration": 477,
    "start_time": "2022-01-23T10:35:51.531Z"
   },
   {
    "duration": 511,
    "start_time": "2022-01-23T10:35:52.010Z"
   },
   {
    "duration": 509,
    "start_time": "2022-01-23T10:35:52.523Z"
   },
   {
    "duration": 69,
    "start_time": "2022-01-23T10:35:53.034Z"
   },
   {
    "duration": 33,
    "start_time": "2022-01-23T10:35:53.105Z"
   },
   {
    "duration": 1407,
    "start_time": "2022-01-23T14:31:00.610Z"
   },
   {
    "duration": 254,
    "start_time": "2022-01-23T14:31:08.237Z"
   },
   {
    "duration": 101,
    "start_time": "2022-01-23T14:31:56.505Z"
   },
   {
    "duration": 164,
    "start_time": "2022-01-23T14:32:57.293Z"
   },
   {
    "duration": 104,
    "start_time": "2022-01-23T14:33:38.267Z"
   },
   {
    "duration": 101,
    "start_time": "2022-01-23T14:38:27.698Z"
   },
   {
    "duration": 509,
    "start_time": "2022-01-23T14:45:50.279Z"
   },
   {
    "duration": 1381,
    "start_time": "2022-01-23T14:46:11.246Z"
   },
   {
    "duration": 117,
    "start_time": "2022-01-23T14:46:12.630Z"
   },
   {
    "duration": 62,
    "start_time": "2022-01-23T14:46:12.751Z"
   },
   {
    "duration": 659,
    "start_time": "2022-01-23T14:46:12.816Z"
   },
   {
    "duration": 26,
    "start_time": "2022-01-23T14:46:13.478Z"
   },
   {
    "duration": 672,
    "start_time": "2022-01-23T14:46:13.507Z"
   },
   {
    "duration": 645,
    "start_time": "2022-01-23T14:46:14.182Z"
   },
   {
    "duration": 637,
    "start_time": "2022-01-23T14:46:14.831Z"
   },
   {
    "duration": 39,
    "start_time": "2022-01-23T14:46:15.472Z"
   },
   {
    "duration": 49,
    "start_time": "2022-01-23T14:46:15.513Z"
   },
   {
    "duration": 740,
    "start_time": "2022-01-23T14:46:15.564Z"
   },
   {
    "duration": 1334,
    "start_time": "2022-01-23T14:46:16.307Z"
   },
   {
    "duration": 47,
    "start_time": "2022-01-23T14:46:17.644Z"
   },
   {
    "duration": 1890,
    "start_time": "2022-01-23T14:46:17.693Z"
   },
   {
    "duration": 1905,
    "start_time": "2022-01-23T14:46:19.586Z"
   },
   {
    "duration": 3979,
    "start_time": "2022-01-23T14:46:21.493Z"
   },
   {
    "duration": 50,
    "start_time": "2022-01-23T14:46:25.475Z"
   },
   {
    "duration": 366,
    "start_time": "2022-01-23T14:46:25.528Z"
   },
   {
    "duration": 371,
    "start_time": "2022-01-23T14:46:25.897Z"
   },
   {
    "duration": 353,
    "start_time": "2022-01-23T14:46:26.271Z"
   },
   {
    "duration": 37,
    "start_time": "2022-01-23T14:46:26.627Z"
   },
   {
    "duration": 25,
    "start_time": "2022-01-23T14:46:26.667Z"
   },
   {
    "duration": 667,
    "start_time": "2022-01-23T14:48:06.145Z"
   },
   {
    "duration": 643,
    "start_time": "2022-01-23T14:50:01.951Z"
   },
   {
    "duration": 596,
    "start_time": "2022-01-23T14:50:41.736Z"
   },
   {
    "duration": 113,
    "start_time": "2022-01-23T14:53:13.676Z"
   },
   {
    "duration": 645,
    "start_time": "2022-01-23T14:53:45.202Z"
   },
   {
    "duration": 653,
    "start_time": "2022-01-23T14:55:17.702Z"
   },
   {
    "duration": 746,
    "start_time": "2022-01-23T14:55:55.834Z"
   },
   {
    "duration": 659,
    "start_time": "2022-01-23T14:58:40.713Z"
   },
   {
    "duration": 1429,
    "start_time": "2022-01-23T15:10:38.685Z"
   },
   {
    "duration": 114,
    "start_time": "2022-01-23T15:10:40.116Z"
   },
   {
    "duration": 65,
    "start_time": "2022-01-23T15:10:40.233Z"
   },
   {
    "duration": 623,
    "start_time": "2022-01-23T15:10:40.301Z"
   },
   {
    "duration": 37,
    "start_time": "2022-01-23T15:10:40.927Z"
   },
   {
    "duration": 675,
    "start_time": "2022-01-23T15:10:40.966Z"
   },
   {
    "duration": 647,
    "start_time": "2022-01-23T15:10:41.644Z"
   },
   {
    "duration": 651,
    "start_time": "2022-01-23T15:10:42.294Z"
   },
   {
    "duration": 46,
    "start_time": "2022-01-23T15:10:42.948Z"
   },
   {
    "duration": 26,
    "start_time": "2022-01-23T15:10:42.997Z"
   },
   {
    "duration": 689,
    "start_time": "2022-01-23T15:10:43.025Z"
   },
   {
    "duration": 1281,
    "start_time": "2022-01-23T15:10:43.717Z"
   },
   {
    "duration": 36,
    "start_time": "2022-01-23T15:10:45.000Z"
   },
   {
    "duration": 1806,
    "start_time": "2022-01-23T15:10:45.039Z"
   },
   {
    "duration": 1641,
    "start_time": "2022-01-23T15:10:46.848Z"
   },
   {
    "duration": 3,
    "start_time": "2022-01-23T15:10:48.493Z"
   },
   {
    "duration": 3770,
    "start_time": "2022-01-23T15:10:48.499Z"
   },
   {
    "duration": 47,
    "start_time": "2022-01-23T15:10:52.271Z"
   },
   {
    "duration": 367,
    "start_time": "2022-01-23T15:10:52.321Z"
   },
   {
    "duration": 371,
    "start_time": "2022-01-23T15:10:52.691Z"
   },
   {
    "duration": 437,
    "start_time": "2022-01-23T15:10:53.065Z"
   },
   {
    "duration": 21,
    "start_time": "2022-01-23T15:10:53.505Z"
   },
   {
    "duration": 39,
    "start_time": "2022-01-23T15:10:53.531Z"
   }
  ],
  "kernelspec": {
   "display_name": "Python 3 (ipykernel)",
   "language": "python",
   "name": "python3"
  },
  "language_info": {
   "codemirror_mode": {
    "name": "ipython",
    "version": 3
   },
   "file_extension": ".py",
   "mimetype": "text/x-python",
   "name": "python",
   "nbconvert_exporter": "python",
   "pygments_lexer": "ipython3",
   "version": "3.9.5"
  },
  "toc": {
   "base_numbering": 1,
   "nav_menu": {},
   "number_sections": true,
   "sideBar": true,
   "skip_h1_title": true,
   "title_cell": "Table of Contents",
   "title_sidebar": "Contents",
   "toc_cell": false,
   "toc_position": {},
   "toc_section_display": true,
   "toc_window_display": false
  }
 },
 "nbformat": 4,
 "nbformat_minor": 2
}
